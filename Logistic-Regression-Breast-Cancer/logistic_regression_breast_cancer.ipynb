{
  "cells": [
    {
      "cell_type": "code",
      "execution_count": 1,
      "metadata": {
        "id": "4M1AGunEMnO0"
      },
      "outputs": [],
      "source": [
        "import numpy as np\n",
        "import pandas as pd\n",
        "import matplotlib.pyplot as plt\n",
        "import seaborn as sns\n",
        "from sklearn.impute import KNNImputer\n",
        "from sklearn.preprocessing import MinMaxScaler\n",
        "from sklearn.model_selection import train_test_split\n",
        "from sklearn.metrics import precision_score, recall_score, f1_score"
      ]
    },
    {
      "cell_type": "code",
      "execution_count": 2,
      "metadata": {
        "id": "QD09rGtMNQ13"
      },
      "outputs": [],
      "source": [
        "df = pd.read_csv(\"Breast_Cancer_data.csv\")"
      ]
    },
    {
      "cell_type": "markdown",
      "metadata": {
        "id": "iC87OervHPUz"
      },
      "source": [
        "#**EDA and PreProcessing**"
      ]
    },
    {
      "cell_type": "code",
      "execution_count": 3,
      "metadata": {
        "colab": {
          "base_uri": "https://localhost:8080/",
          "height": 206
        },
        "id": "zcMK36N1NeDd",
        "outputId": "95d5a80d-800b-4ce5-e137-8e5903963324"
      },
      "outputs": [
        {
          "data": {
            "text/html": [
              "<div>\n",
              "<style scoped>\n",
              "    .dataframe tbody tr th:only-of-type {\n",
              "        vertical-align: middle;\n",
              "    }\n",
              "\n",
              "    .dataframe tbody tr th {\n",
              "        vertical-align: top;\n",
              "    }\n",
              "\n",
              "    .dataframe thead th {\n",
              "        text-align: right;\n",
              "    }\n",
              "</style>\n",
              "<table border=\"1\" class=\"dataframe\">\n",
              "  <thead>\n",
              "    <tr style=\"text-align: right;\">\n",
              "      <th></th>\n",
              "      <th>S/N</th>\n",
              "      <th>Year</th>\n",
              "      <th>Age</th>\n",
              "      <th>Menopause</th>\n",
              "      <th>Tumor Size (cm)</th>\n",
              "      <th>Inv-Nodes</th>\n",
              "      <th>Breast</th>\n",
              "      <th>Metastasis</th>\n",
              "      <th>Breast Quadrant</th>\n",
              "      <th>History</th>\n",
              "      <th>Diagnosis Result</th>\n",
              "    </tr>\n",
              "  </thead>\n",
              "  <tbody>\n",
              "    <tr>\n",
              "      <th>0</th>\n",
              "      <td>1</td>\n",
              "      <td>2019</td>\n",
              "      <td>40</td>\n",
              "      <td>1</td>\n",
              "      <td>2</td>\n",
              "      <td>0</td>\n",
              "      <td>Right</td>\n",
              "      <td>0</td>\n",
              "      <td>Upper inner</td>\n",
              "      <td>0</td>\n",
              "      <td>Benign</td>\n",
              "    </tr>\n",
              "    <tr>\n",
              "      <th>1</th>\n",
              "      <td>2</td>\n",
              "      <td>2019</td>\n",
              "      <td>39</td>\n",
              "      <td>1</td>\n",
              "      <td>2</td>\n",
              "      <td>0</td>\n",
              "      <td>Left</td>\n",
              "      <td>0</td>\n",
              "      <td>Upper outer</td>\n",
              "      <td>0</td>\n",
              "      <td>Benign</td>\n",
              "    </tr>\n",
              "    <tr>\n",
              "      <th>2</th>\n",
              "      <td>3</td>\n",
              "      <td>2019</td>\n",
              "      <td>45</td>\n",
              "      <td>0</td>\n",
              "      <td>4</td>\n",
              "      <td>0</td>\n",
              "      <td>Left</td>\n",
              "      <td>0</td>\n",
              "      <td>Lower outer</td>\n",
              "      <td>0</td>\n",
              "      <td>Benign</td>\n",
              "    </tr>\n",
              "    <tr>\n",
              "      <th>3</th>\n",
              "      <td>4</td>\n",
              "      <td>2019</td>\n",
              "      <td>26</td>\n",
              "      <td>1</td>\n",
              "      <td>3</td>\n",
              "      <td>0</td>\n",
              "      <td>Left</td>\n",
              "      <td>0</td>\n",
              "      <td>Lower inner</td>\n",
              "      <td>1</td>\n",
              "      <td>Benign</td>\n",
              "    </tr>\n",
              "    <tr>\n",
              "      <th>4</th>\n",
              "      <td>5</td>\n",
              "      <td>2019</td>\n",
              "      <td>21</td>\n",
              "      <td>1</td>\n",
              "      <td>1</td>\n",
              "      <td>0</td>\n",
              "      <td>Right</td>\n",
              "      <td>0</td>\n",
              "      <td>Upper outer</td>\n",
              "      <td>1</td>\n",
              "      <td>Benign</td>\n",
              "    </tr>\n",
              "  </tbody>\n",
              "</table>\n",
              "</div>"
            ],
            "text/plain": [
              "   S/N  Year  Age  Menopause Tumor Size (cm) Inv-Nodes Breast Metastasis  \\\n",
              "0    1  2019   40          1               2         0  Right          0   \n",
              "1    2  2019   39          1               2         0   Left          0   \n",
              "2    3  2019   45          0               4         0   Left          0   \n",
              "3    4  2019   26          1               3         0   Left          0   \n",
              "4    5  2019   21          1               1         0  Right          0   \n",
              "\n",
              "  Breast Quadrant History Diagnosis Result  \n",
              "0     Upper inner       0           Benign  \n",
              "1     Upper outer       0           Benign  \n",
              "2     Lower outer       0           Benign  \n",
              "3     Lower inner       1           Benign  \n",
              "4     Upper outer       1           Benign  "
            ]
          },
          "execution_count": 3,
          "metadata": {},
          "output_type": "execute_result"
        }
      ],
      "source": [
        "df.head()"
      ]
    },
    {
      "cell_type": "code",
      "execution_count": 4,
      "metadata": {
        "colab": {
          "base_uri": "https://localhost:8080/"
        },
        "id": "MABgayi3NlDY",
        "outputId": "497ebb29-db32-4356-ca44-dd0f5741f2a9"
      },
      "outputs": [
        {
          "name": "stdout",
          "output_type": "stream",
          "text": [
            "<class 'pandas.core.frame.DataFrame'>\n",
            "RangeIndex: 213 entries, 0 to 212\n",
            "Data columns (total 11 columns):\n",
            " #   Column            Non-Null Count  Dtype \n",
            "---  ------            --------------  ----- \n",
            " 0   S/N               213 non-null    int64 \n",
            " 1   Year              213 non-null    object\n",
            " 2   Age               213 non-null    int64 \n",
            " 3   Menopause         213 non-null    int64 \n",
            " 4   Tumor Size (cm)   213 non-null    object\n",
            " 5   Inv-Nodes         213 non-null    object\n",
            " 6   Breast            213 non-null    object\n",
            " 7   Metastasis        213 non-null    object\n",
            " 8   Breast Quadrant   213 non-null    object\n",
            " 9   History           213 non-null    object\n",
            " 10  Diagnosis Result  213 non-null    object\n",
            "dtypes: int64(3), object(8)\n",
            "memory usage: 18.4+ KB\n"
          ]
        }
      ],
      "source": [
        "df.info()"
      ]
    },
    {
      "cell_type": "code",
      "execution_count": 5,
      "metadata": {
        "colab": {
          "base_uri": "https://localhost:8080/",
          "height": 423
        },
        "id": "alLEJo3dgkQK",
        "outputId": "6495deb2-1ce7-4689-b69d-0c1825436157"
      },
      "outputs": [
        {
          "data": {
            "text/html": [
              "<div>\n",
              "<style scoped>\n",
              "    .dataframe tbody tr th:only-of-type {\n",
              "        vertical-align: middle;\n",
              "    }\n",
              "\n",
              "    .dataframe tbody tr th {\n",
              "        vertical-align: top;\n",
              "    }\n",
              "\n",
              "    .dataframe thead th {\n",
              "        text-align: right;\n",
              "    }\n",
              "</style>\n",
              "<table border=\"1\" class=\"dataframe\">\n",
              "  <thead>\n",
              "    <tr style=\"text-align: right;\">\n",
              "      <th></th>\n",
              "      <th>S/N</th>\n",
              "      <th>Year</th>\n",
              "      <th>Age</th>\n",
              "      <th>Menopause</th>\n",
              "      <th>Tumor Size (cm)</th>\n",
              "      <th>Inv-Nodes</th>\n",
              "      <th>Breast</th>\n",
              "      <th>Metastasis</th>\n",
              "      <th>Breast Quadrant</th>\n",
              "      <th>History</th>\n",
              "      <th>Diagnosis Result</th>\n",
              "    </tr>\n",
              "  </thead>\n",
              "  <tbody>\n",
              "    <tr>\n",
              "      <th>40</th>\n",
              "      <td>41</td>\n",
              "      <td>#</td>\n",
              "      <td>34</td>\n",
              "      <td>1</td>\n",
              "      <td>#</td>\n",
              "      <td>#</td>\n",
              "      <td>#</td>\n",
              "      <td>#</td>\n",
              "      <td>#</td>\n",
              "      <td>#</td>\n",
              "      <td>Malignant</td>\n",
              "    </tr>\n",
              "    <tr>\n",
              "      <th>0</th>\n",
              "      <td>1</td>\n",
              "      <td>2019</td>\n",
              "      <td>40</td>\n",
              "      <td>1</td>\n",
              "      <td>2</td>\n",
              "      <td>0</td>\n",
              "      <td>Right</td>\n",
              "      <td>0</td>\n",
              "      <td>Upper inner</td>\n",
              "      <td>0</td>\n",
              "      <td>Benign</td>\n",
              "    </tr>\n",
              "    <tr>\n",
              "      <th>74</th>\n",
              "      <td>75</td>\n",
              "      <td>2019</td>\n",
              "      <td>18</td>\n",
              "      <td>1</td>\n",
              "      <td>3</td>\n",
              "      <td>0</td>\n",
              "      <td>Right</td>\n",
              "      <td>0</td>\n",
              "      <td>Lower outer</td>\n",
              "      <td>0</td>\n",
              "      <td>Benign</td>\n",
              "    </tr>\n",
              "    <tr>\n",
              "      <th>73</th>\n",
              "      <td>74</td>\n",
              "      <td>2019</td>\n",
              "      <td>31</td>\n",
              "      <td>1</td>\n",
              "      <td>4</td>\n",
              "      <td>0</td>\n",
              "      <td>Left</td>\n",
              "      <td>0</td>\n",
              "      <td>Lower outer</td>\n",
              "      <td>0</td>\n",
              "      <td>Benign</td>\n",
              "    </tr>\n",
              "    <tr>\n",
              "      <th>72</th>\n",
              "      <td>73</td>\n",
              "      <td>2019</td>\n",
              "      <td>39</td>\n",
              "      <td>1</td>\n",
              "      <td>2</td>\n",
              "      <td>0</td>\n",
              "      <td>Right</td>\n",
              "      <td>0</td>\n",
              "      <td>Upper outer</td>\n",
              "      <td>0</td>\n",
              "      <td>Benign</td>\n",
              "    </tr>\n",
              "    <tr>\n",
              "      <th>...</th>\n",
              "      <td>...</td>\n",
              "      <td>...</td>\n",
              "      <td>...</td>\n",
              "      <td>...</td>\n",
              "      <td>...</td>\n",
              "      <td>...</td>\n",
              "      <td>...</td>\n",
              "      <td>...</td>\n",
              "      <td>...</td>\n",
              "      <td>...</td>\n",
              "      <td>...</td>\n",
              "    </tr>\n",
              "    <tr>\n",
              "      <th>132</th>\n",
              "      <td>133</td>\n",
              "      <td>2020</td>\n",
              "      <td>38</td>\n",
              "      <td>1</td>\n",
              "      <td>7</td>\n",
              "      <td>1</td>\n",
              "      <td>Right</td>\n",
              "      <td>0</td>\n",
              "      <td>Lower inner</td>\n",
              "      <td>1</td>\n",
              "      <td>Malignant</td>\n",
              "    </tr>\n",
              "    <tr>\n",
              "      <th>131</th>\n",
              "      <td>132</td>\n",
              "      <td>2020</td>\n",
              "      <td>68</td>\n",
              "      <td>0</td>\n",
              "      <td>7</td>\n",
              "      <td>1</td>\n",
              "      <td>Left</td>\n",
              "      <td>1</td>\n",
              "      <td>Lower inner</td>\n",
              "      <td>1</td>\n",
              "      <td>Malignant</td>\n",
              "    </tr>\n",
              "    <tr>\n",
              "      <th>130</th>\n",
              "      <td>131</td>\n",
              "      <td>2020</td>\n",
              "      <td>33</td>\n",
              "      <td>1</td>\n",
              "      <td>4</td>\n",
              "      <td>0</td>\n",
              "      <td>Left</td>\n",
              "      <td>0</td>\n",
              "      <td>Upper inner</td>\n",
              "      <td>0</td>\n",
              "      <td>Benign</td>\n",
              "    </tr>\n",
              "    <tr>\n",
              "      <th>156</th>\n",
              "      <td>157</td>\n",
              "      <td>2020</td>\n",
              "      <td>53</td>\n",
              "      <td>0</td>\n",
              "      <td>5</td>\n",
              "      <td>0</td>\n",
              "      <td>Right</td>\n",
              "      <td>0</td>\n",
              "      <td>Upper inner</td>\n",
              "      <td>1</td>\n",
              "      <td>Malignant</td>\n",
              "    </tr>\n",
              "    <tr>\n",
              "      <th>212</th>\n",
              "      <td>213</td>\n",
              "      <td>2020</td>\n",
              "      <td>50</td>\n",
              "      <td>0</td>\n",
              "      <td>4</td>\n",
              "      <td>0</td>\n",
              "      <td>Right</td>\n",
              "      <td>0</td>\n",
              "      <td>Lower outer</td>\n",
              "      <td>1</td>\n",
              "      <td>Benign</td>\n",
              "    </tr>\n",
              "  </tbody>\n",
              "</table>\n",
              "<p>213 rows × 11 columns</p>\n",
              "</div>"
            ],
            "text/plain": [
              "     S/N  Year  Age  Menopause Tumor Size (cm) Inv-Nodes Breast Metastasis  \\\n",
              "40    41     #   34          1               #         #      #          #   \n",
              "0      1  2019   40          1               2         0  Right          0   \n",
              "74    75  2019   18          1               3         0  Right          0   \n",
              "73    74  2019   31          1               4         0   Left          0   \n",
              "72    73  2019   39          1               2         0  Right          0   \n",
              "..   ...   ...  ...        ...             ...       ...    ...        ...   \n",
              "132  133  2020   38          1               7         1  Right          0   \n",
              "131  132  2020   68          0               7         1   Left          1   \n",
              "130  131  2020   33          1               4         0   Left          0   \n",
              "156  157  2020   53          0               5         0  Right          0   \n",
              "212  213  2020   50          0               4         0  Right          0   \n",
              "\n",
              "    Breast Quadrant History Diagnosis Result  \n",
              "40                #       #        Malignant  \n",
              "0       Upper inner       0           Benign  \n",
              "74      Lower outer       0           Benign  \n",
              "73      Lower outer       0           Benign  \n",
              "72      Upper outer       0           Benign  \n",
              "..              ...     ...              ...  \n",
              "132     Lower inner       1        Malignant  \n",
              "131     Lower inner       1        Malignant  \n",
              "130     Upper inner       0           Benign  \n",
              "156     Upper inner       1        Malignant  \n",
              "212     Lower outer       1           Benign  \n",
              "\n",
              "[213 rows x 11 columns]"
            ]
          },
          "execution_count": 5,
          "metadata": {},
          "output_type": "execute_result"
        }
      ],
      "source": [
        "df.sort_values(by='Year')"
      ]
    },
    {
      "cell_type": "code",
      "execution_count": 6,
      "metadata": {
        "id": "AzBngiGcJP17"
      },
      "outputs": [],
      "source": [
        "to_drop = [\"S/N\"]\n",
        "df.drop(to_drop, inplace = True, axis=1)"
      ]
    },
    {
      "cell_type": "code",
      "execution_count": 7,
      "metadata": {
        "colab": {
          "base_uri": "https://localhost:8080/",
          "height": 363
        },
        "id": "-uUlpob1JOIw",
        "outputId": "67fbc46e-3747-4690-9835-849e31dbd29e"
      },
      "outputs": [
        {
          "data": {
            "text/html": [
              "<div>\n",
              "<style scoped>\n",
              "    .dataframe tbody tr th:only-of-type {\n",
              "        vertical-align: middle;\n",
              "    }\n",
              "\n",
              "    .dataframe tbody tr th {\n",
              "        vertical-align: top;\n",
              "    }\n",
              "\n",
              "    .dataframe thead th {\n",
              "        text-align: right;\n",
              "    }\n",
              "</style>\n",
              "<table border=\"1\" class=\"dataframe\">\n",
              "  <thead>\n",
              "    <tr style=\"text-align: right;\">\n",
              "      <th></th>\n",
              "      <th>Year</th>\n",
              "      <th>Age</th>\n",
              "      <th>Menopause</th>\n",
              "      <th>Tumor Size (cm)</th>\n",
              "      <th>Inv-Nodes</th>\n",
              "      <th>Breast</th>\n",
              "      <th>Metastasis</th>\n",
              "      <th>Breast Quadrant</th>\n",
              "      <th>History</th>\n",
              "      <th>Diagnosis Result</th>\n",
              "    </tr>\n",
              "  </thead>\n",
              "  <tbody>\n",
              "    <tr>\n",
              "      <th>73</th>\n",
              "      <td>2019</td>\n",
              "      <td>31</td>\n",
              "      <td>1</td>\n",
              "      <td>4</td>\n",
              "      <td>0</td>\n",
              "      <td>Left</td>\n",
              "      <td>0</td>\n",
              "      <td>Lower outer</td>\n",
              "      <td>0</td>\n",
              "      <td>Benign</td>\n",
              "    </tr>\n",
              "    <tr>\n",
              "      <th>12</th>\n",
              "      <td>2019</td>\n",
              "      <td>50</td>\n",
              "      <td>0</td>\n",
              "      <td>5</td>\n",
              "      <td>1</td>\n",
              "      <td>Right</td>\n",
              "      <td>1</td>\n",
              "      <td>Upper outer</td>\n",
              "      <td>0</td>\n",
              "      <td>Malignant</td>\n",
              "    </tr>\n",
              "    <tr>\n",
              "      <th>9</th>\n",
              "      <td>2019</td>\n",
              "      <td>42</td>\n",
              "      <td>1</td>\n",
              "      <td>2</td>\n",
              "      <td>0</td>\n",
              "      <td>Right</td>\n",
              "      <td>0</td>\n",
              "      <td>Lower outer</td>\n",
              "      <td>1</td>\n",
              "      <td>Benign</td>\n",
              "    </tr>\n",
              "    <tr>\n",
              "      <th>97</th>\n",
              "      <td>2019</td>\n",
              "      <td>65</td>\n",
              "      <td>0</td>\n",
              "      <td>6</td>\n",
              "      <td>1</td>\n",
              "      <td>Right</td>\n",
              "      <td>1</td>\n",
              "      <td>Upper outer</td>\n",
              "      <td>1</td>\n",
              "      <td>Malignant</td>\n",
              "    </tr>\n",
              "    <tr>\n",
              "      <th>64</th>\n",
              "      <td>2019</td>\n",
              "      <td>41</td>\n",
              "      <td>1</td>\n",
              "      <td>5</td>\n",
              "      <td>0</td>\n",
              "      <td>Left</td>\n",
              "      <td>0</td>\n",
              "      <td>Lower inner</td>\n",
              "      <td>0</td>\n",
              "      <td>Malignant</td>\n",
              "    </tr>\n",
              "    <tr>\n",
              "      <th>110</th>\n",
              "      <td>2020</td>\n",
              "      <td>18</td>\n",
              "      <td>1</td>\n",
              "      <td>5</td>\n",
              "      <td>0</td>\n",
              "      <td>Left</td>\n",
              "      <td>0</td>\n",
              "      <td>Lower inner</td>\n",
              "      <td>0</td>\n",
              "      <td>Benign</td>\n",
              "    </tr>\n",
              "    <tr>\n",
              "      <th>5</th>\n",
              "      <td>2019</td>\n",
              "      <td>50</td>\n",
              "      <td>0</td>\n",
              "      <td>5</td>\n",
              "      <td>1</td>\n",
              "      <td>Right</td>\n",
              "      <td>1</td>\n",
              "      <td>Lower outer</td>\n",
              "      <td>0</td>\n",
              "      <td>Malignant</td>\n",
              "    </tr>\n",
              "    <tr>\n",
              "      <th>211</th>\n",
              "      <td>2020</td>\n",
              "      <td>19</td>\n",
              "      <td>1</td>\n",
              "      <td>1</td>\n",
              "      <td>0</td>\n",
              "      <td>Left</td>\n",
              "      <td>0</td>\n",
              "      <td>Lower inner</td>\n",
              "      <td>1</td>\n",
              "      <td>Benign</td>\n",
              "    </tr>\n",
              "    <tr>\n",
              "      <th>202</th>\n",
              "      <td>2020</td>\n",
              "      <td>38</td>\n",
              "      <td>1</td>\n",
              "      <td>3</td>\n",
              "      <td>0</td>\n",
              "      <td>Right</td>\n",
              "      <td>0</td>\n",
              "      <td>Lower outer</td>\n",
              "      <td>0</td>\n",
              "      <td>Benign</td>\n",
              "    </tr>\n",
              "    <tr>\n",
              "      <th>116</th>\n",
              "      <td>2020</td>\n",
              "      <td>51</td>\n",
              "      <td>0</td>\n",
              "      <td>7</td>\n",
              "      <td>1</td>\n",
              "      <td>Left</td>\n",
              "      <td>1</td>\n",
              "      <td>Upper inner</td>\n",
              "      <td>1</td>\n",
              "      <td>Malignant</td>\n",
              "    </tr>\n",
              "  </tbody>\n",
              "</table>\n",
              "</div>"
            ],
            "text/plain": [
              "     Year  Age  Menopause Tumor Size (cm) Inv-Nodes Breast Metastasis  \\\n",
              "73   2019   31          1               4         0   Left          0   \n",
              "12   2019   50          0               5         1  Right          1   \n",
              "9    2019   42          1               2         0  Right          0   \n",
              "97   2019   65          0               6         1  Right          1   \n",
              "64   2019   41          1               5         0   Left          0   \n",
              "110  2020   18          1               5         0   Left          0   \n",
              "5    2019   50          0               5         1  Right          1   \n",
              "211  2020   19          1               1         0   Left          0   \n",
              "202  2020   38          1               3         0  Right          0   \n",
              "116  2020   51          0               7         1   Left          1   \n",
              "\n",
              "    Breast Quadrant History Diagnosis Result  \n",
              "73      Lower outer       0           Benign  \n",
              "12      Upper outer       0        Malignant  \n",
              "9       Lower outer       1           Benign  \n",
              "97      Upper outer       1        Malignant  \n",
              "64      Lower inner       0        Malignant  \n",
              "110     Lower inner       0           Benign  \n",
              "5       Lower outer       0        Malignant  \n",
              "211     Lower inner       1           Benign  \n",
              "202     Lower outer       0           Benign  \n",
              "116     Upper inner       1        Malignant  "
            ]
          },
          "execution_count": 7,
          "metadata": {},
          "output_type": "execute_result"
        }
      ],
      "source": [
        "df.sample(10)"
      ]
    },
    {
      "cell_type": "code",
      "execution_count": 8,
      "metadata": {
        "colab": {
          "base_uri": "https://localhost:8080/"
        },
        "id": "Fji3UQEZOIDu",
        "outputId": "b08393d0-4f81-4110-938d-86b45f13b1af"
      },
      "outputs": [
        {
          "data": {
            "text/plain": [
              "Year                0\n",
              "Age                 0\n",
              "Menopause           0\n",
              "Tumor Size (cm)     0\n",
              "Inv-Nodes           0\n",
              "Breast              0\n",
              "Metastasis          0\n",
              "Breast Quadrant     0\n",
              "History             0\n",
              "Diagnosis Result    0\n",
              "dtype: int64"
            ]
          },
          "execution_count": 8,
          "metadata": {},
          "output_type": "execute_result"
        }
      ],
      "source": [
        "df.isna().sum()"
      ]
    },
    {
      "cell_type": "code",
      "execution_count": 9,
      "metadata": {
        "id": "iV-kSZV7U-ft"
      },
      "outputs": [],
      "source": [
        "def hash_count():\n",
        "    hash_counts = {}\n",
        "    for column in df.columns:\n",
        "        hash_count = df[column].astype(str).str.count('#').sum()\n",
        "        hash_counts[column] = hash_count\n",
        "    return hash_counts"
      ]
    },
    {
      "cell_type": "code",
      "execution_count": 10,
      "metadata": {
        "colab": {
          "base_uri": "https://localhost:8080/"
        },
        "id": "_-vLP2zqbkCx",
        "outputId": "c1dfdca1-0eae-4549-d156-d3d415aa4a1a"
      },
      "outputs": [
        {
          "data": {
            "text/plain": [
              "{'Year': 1,\n",
              " 'Age': 0,\n",
              " 'Menopause': 0,\n",
              " 'Tumor Size (cm)': 1,\n",
              " 'Inv-Nodes': 1,\n",
              " 'Breast': 6,\n",
              " 'Metastasis': 1,\n",
              " 'Breast Quadrant': 2,\n",
              " 'History': 2,\n",
              " 'Diagnosis Result': 0}"
            ]
          },
          "execution_count": 10,
          "metadata": {},
          "output_type": "execute_result"
        }
      ],
      "source": [
        "hash_count()"
      ]
    },
    {
      "cell_type": "code",
      "execution_count": 11,
      "metadata": {
        "colab": {
          "base_uri": "https://localhost:8080/"
        },
        "id": "X_sC-2haYwEr",
        "outputId": "e87712c1-7373-4079-92a4-824d97a9bf2b"
      },
      "outputs": [
        {
          "data": {
            "text/plain": [
              "0"
            ]
          },
          "execution_count": 11,
          "metadata": {},
          "output_type": "execute_result"
        }
      ],
      "source": [
        "df.duplicated().sum()"
      ]
    },
    {
      "cell_type": "code",
      "execution_count": 12,
      "metadata": {
        "colab": {
          "base_uri": "https://localhost:8080/"
        },
        "id": "ikrrjaAwcllx",
        "outputId": "ae9c62ca-7b7c-4524-b280-8f3c8d9cfded"
      },
      "outputs": [
        {
          "data": {
            "text/plain": [
              "{'Year': 0,\n",
              " 'Age': 0,\n",
              " 'Menopause': 0,\n",
              " 'Tumor Size (cm)': 0,\n",
              " 'Inv-Nodes': 0,\n",
              " 'Breast': 0,\n",
              " 'Metastasis': 0,\n",
              " 'Breast Quadrant': 0,\n",
              " 'History': 0,\n",
              " 'Diagnosis Result': 0}"
            ]
          },
          "execution_count": 12,
          "metadata": {},
          "output_type": "execute_result"
        }
      ],
      "source": [
        "df.replace(\"#\", np.nan, inplace=True)\n",
        "hash_count()"
      ]
    },
    {
      "cell_type": "code",
      "execution_count": 13,
      "metadata": {
        "colab": {
          "base_uri": "https://localhost:8080/",
          "height": 206
        },
        "id": "Uoowg4-Sit6p",
        "outputId": "36114c16-c801-4644-c693-56d47f05fab7"
      },
      "outputs": [
        {
          "data": {
            "text/html": [
              "<div>\n",
              "<style scoped>\n",
              "    .dataframe tbody tr th:only-of-type {\n",
              "        vertical-align: middle;\n",
              "    }\n",
              "\n",
              "    .dataframe tbody tr th {\n",
              "        vertical-align: top;\n",
              "    }\n",
              "\n",
              "    .dataframe thead th {\n",
              "        text-align: right;\n",
              "    }\n",
              "</style>\n",
              "<table border=\"1\" class=\"dataframe\">\n",
              "  <thead>\n",
              "    <tr style=\"text-align: right;\">\n",
              "      <th></th>\n",
              "      <th>Year</th>\n",
              "      <th>Age</th>\n",
              "      <th>Menopause</th>\n",
              "      <th>Tumor Size (cm)</th>\n",
              "      <th>Inv-Nodes</th>\n",
              "      <th>Breast</th>\n",
              "      <th>Metastasis</th>\n",
              "      <th>Breast Quadrant</th>\n",
              "      <th>History</th>\n",
              "      <th>Diagnosis Result</th>\n",
              "    </tr>\n",
              "  </thead>\n",
              "  <tbody>\n",
              "    <tr>\n",
              "      <th>208</th>\n",
              "      <td>2020</td>\n",
              "      <td>49</td>\n",
              "      <td>1</td>\n",
              "      <td>6</td>\n",
              "      <td>3</td>\n",
              "      <td>Right</td>\n",
              "      <td>1</td>\n",
              "      <td>Lower inner</td>\n",
              "      <td>1</td>\n",
              "      <td>Malignant</td>\n",
              "    </tr>\n",
              "    <tr>\n",
              "      <th>209</th>\n",
              "      <td>2020</td>\n",
              "      <td>28</td>\n",
              "      <td>1</td>\n",
              "      <td>3</td>\n",
              "      <td>0</td>\n",
              "      <td>Left</td>\n",
              "      <td>0</td>\n",
              "      <td>Upper inner</td>\n",
              "      <td>0</td>\n",
              "      <td>Benign</td>\n",
              "    </tr>\n",
              "    <tr>\n",
              "      <th>210</th>\n",
              "      <td>2020</td>\n",
              "      <td>22</td>\n",
              "      <td>1</td>\n",
              "      <td>1</td>\n",
              "      <td>0</td>\n",
              "      <td>Left</td>\n",
              "      <td>0</td>\n",
              "      <td>Upper outer</td>\n",
              "      <td>1</td>\n",
              "      <td>Benign</td>\n",
              "    </tr>\n",
              "    <tr>\n",
              "      <th>211</th>\n",
              "      <td>2020</td>\n",
              "      <td>19</td>\n",
              "      <td>1</td>\n",
              "      <td>1</td>\n",
              "      <td>0</td>\n",
              "      <td>Left</td>\n",
              "      <td>0</td>\n",
              "      <td>Lower inner</td>\n",
              "      <td>1</td>\n",
              "      <td>Benign</td>\n",
              "    </tr>\n",
              "    <tr>\n",
              "      <th>212</th>\n",
              "      <td>2020</td>\n",
              "      <td>50</td>\n",
              "      <td>0</td>\n",
              "      <td>4</td>\n",
              "      <td>0</td>\n",
              "      <td>Right</td>\n",
              "      <td>0</td>\n",
              "      <td>Lower outer</td>\n",
              "      <td>1</td>\n",
              "      <td>Benign</td>\n",
              "    </tr>\n",
              "  </tbody>\n",
              "</table>\n",
              "</div>"
            ],
            "text/plain": [
              "     Year  Age  Menopause Tumor Size (cm) Inv-Nodes Breast Metastasis  \\\n",
              "208  2020   49          1               6         3  Right          1   \n",
              "209  2020   28          1               3         0   Left          0   \n",
              "210  2020   22          1               1         0   Left          0   \n",
              "211  2020   19          1               1         0   Left          0   \n",
              "212  2020   50          0               4         0  Right          0   \n",
              "\n",
              "    Breast Quadrant History Diagnosis Result  \n",
              "208     Lower inner       1        Malignant  \n",
              "209     Upper inner       0           Benign  \n",
              "210     Upper outer       1           Benign  \n",
              "211     Lower inner       1           Benign  \n",
              "212     Lower outer       1           Benign  "
            ]
          },
          "execution_count": 13,
          "metadata": {},
          "output_type": "execute_result"
        }
      ],
      "source": [
        "df.tail(5)"
      ]
    },
    {
      "cell_type": "code",
      "execution_count": 14,
      "metadata": {
        "colab": {
          "base_uri": "https://localhost:8080/"
        },
        "id": "oqQqiR0peKCk",
        "outputId": "bb77e478-7a5c-4c68-fc7a-147099733112"
      },
      "outputs": [
        {
          "data": {
            "text/plain": [
              "Year                0\n",
              "Age                 0\n",
              "Menopause           0\n",
              "Tumor Size (cm)     0\n",
              "Inv-Nodes           1\n",
              "Breast              6\n",
              "Metastasis          1\n",
              "Breast Quadrant     2\n",
              "History             2\n",
              "Diagnosis Result    0\n",
              "dtype: int64"
            ]
          },
          "execution_count": 14,
          "metadata": {},
          "output_type": "execute_result"
        }
      ],
      "source": [
        "df['Year'] = pd.to_numeric(df['Year'], errors='coerce')\n",
        "df['Tumor Size (cm)'] = pd.to_numeric(df['Tumor Size (cm)'], errors='coerce')\n",
        "df['Inv-Nodes'] = pd.to_numeric(df['Inv-Nodes'], errors='coerce')\n",
        "df['Metastasis'] = pd.to_numeric(df['Metastasis'], errors='coerce')\n",
        "df['Tumor Size (cm)'].fillna(df['Tumor Size (cm)'].median(), inplace=True)\n",
        "df['Year'].interpolate(method='linear', inplace=True)\n",
        "\n",
        "\n",
        "df.isnull().sum()"
      ]
    },
    {
      "cell_type": "code",
      "execution_count": 15,
      "metadata": {
        "colab": {
          "base_uri": "https://localhost:8080/"
        },
        "id": "u5IxwlSNx7wS",
        "outputId": "79661556-6394-4f4a-82ce-15b441bc6c39"
      },
      "outputs": [
        {
          "name": "stdout",
          "output_type": "stream",
          "text": [
            "Year: [2019. 2020.]\n",
            "Age: [40 39 45 26 21 50 58 35 42 41 43 30 33 38 60 47 57 34 31 36 56 48 61 20\n",
            " 37 27 25 17 23 59 67 46 24 49 53 28 68 64 18 14 15 54 71 55 22 65 19 52\n",
            " 51 44 63 29 32 62 69 13 16 77]\n",
            "Menopause: [1 0]\n",
            "Tumor Size (cm): [ 2.  4.  3.  1.  5.  6.  7. 10.  8.  9. 14. 12.]\n",
            "Inv-Nodes: [ 0.  1. nan  3.]\n",
            "Breast: ['Right' 'Left' nan]\n",
            "Metastasis: [ 0.  1. nan]\n",
            "Breast Quadrant: ['Upper inner' 'Upper outer' 'Lower outer' 'Lower inner' nan\n",
            " 'Upper outer ']\n",
            "History: ['0' '1' nan]\n",
            "Diagnosis Result: ['Benign' 'Malignant']\n"
          ]
        }
      ],
      "source": [
        "for i in df.columns:\n",
        "    print(f\"{i}: {df[i].unique()}\")"
      ]
    },
    {
      "cell_type": "code",
      "execution_count": 16,
      "metadata": {
        "id": "TeBq-vI21vT3"
      },
      "outputs": [],
      "source": [
        "df_feature = df[['Inv-Nodes']].copy()\n",
        "imputer = KNNImputer(n_neighbors=2)\n",
        "\n",
        "df_feature['Inv-Nodes'] = imputer.fit_transform(df_feature)\n",
        "\n",
        "df_feature['Inv-Nodes'] = np.round(df_feature['Inv-Nodes']).astype(int)\n",
        "df['Inv-Nodes'] = df_feature['Inv-Nodes']"
      ]
    },
    {
      "cell_type": "code",
      "execution_count": 17,
      "metadata": {
        "id": "FaqjcsPI2yWu"
      },
      "outputs": [],
      "source": [
        "mapping = {'Right': 1, 'Left': 0}\n",
        "df['Breast'] = df['Breast'].map(mapping)"
      ]
    },
    {
      "cell_type": "code",
      "execution_count": 18,
      "metadata": {
        "id": "fF7FbSff3Yt9"
      },
      "outputs": [],
      "source": [
        "df_feature = df[['Breast']].copy()\n",
        "imputer = KNNImputer(n_neighbors=2)\n",
        "\n",
        "df_feature['Breast'] = imputer.fit_transform(df_feature)\n",
        "\n",
        "df_feature['Breast'] = np.round(df_feature['Breast']).astype(int)\n",
        "df['Breast'] = df_feature['Breast']"
      ]
    },
    {
      "cell_type": "code",
      "execution_count": 19,
      "metadata": {
        "id": "MVZ-IxUV3zaQ"
      },
      "outputs": [],
      "source": [
        "df_feature = df[['Metastasis']].copy()\n",
        "imputer = KNNImputer(n_neighbors=2)\n",
        "\n",
        "df_feature['Metastasis'] = imputer.fit_transform(df_feature)\n",
        "\n",
        "df_feature['Metastasis'] = np.round(df_feature['Metastasis']).astype(int)\n",
        "df['Metastasis'] = df_feature['Metastasis']"
      ]
    },
    {
      "cell_type": "code",
      "execution_count": 20,
      "metadata": {
        "id": "ioMBRiSrQ2YD"
      },
      "outputs": [],
      "source": [
        "df_feature = df[['History']].copy()\n",
        "imputer = KNNImputer(n_neighbors=2)\n",
        "\n",
        "df_feature['History'] = imputer.fit_transform(df_feature)\n",
        "\n",
        "df_feature['History'] = np.round(df_feature['History']).astype(int)\n",
        "df['History'] = df_feature['History']"
      ]
    },
    {
      "cell_type": "code",
      "execution_count": 21,
      "metadata": {
        "id": "4bBwoqbcyWq_"
      },
      "outputs": [],
      "source": [
        "df['Diagnosis Result'] = df['Diagnosis Result'].map({'Benign': 1, 'Malignant': 0})"
      ]
    },
    {
      "cell_type": "code",
      "execution_count": 22,
      "metadata": {
        "id": "5nhfCU3y3-ML"
      },
      "outputs": [],
      "source": [
        "df['Breast Quadrant'] = df['Breast Quadrant'].str.strip()"
      ]
    },
    {
      "cell_type": "code",
      "execution_count": 23,
      "metadata": {
        "id": "b28-5a83ymiH"
      },
      "outputs": [],
      "source": [
        "df['Breast Quadrant'] = df['Breast Quadrant'].map({'Upper inner': 0, 'Upper outer': 1, 'Lower outer': 2, 'Lower inner': 3})\n",
        "\n",
        "most_frequent_value = df['Breast Quadrant'].mode()[0]\n",
        "df['Breast Quadrant'] = df['Breast Quadrant'].fillna(most_frequent_value).astype(int)\n",
        "\n",
        "df_dummies = pd.get_dummies(df['Breast Quadrant'], prefix='Breast Quadrant', drop_first=False)\n",
        "\n",
        "df = df.drop('Breast Quadrant', axis=1)\n",
        "\n",
        "df = pd.concat([df, df_dummies], axis=1)\n",
        "\n",
        "df['Breast Quadrant_0'] = df['Breast Quadrant_0'].astype(int)\n",
        "df['Breast Quadrant_1'] = df['Breast Quadrant_1'].astype(int)\n",
        "df['Breast Quadrant_2'] = df['Breast Quadrant_2'].astype(int)\n",
        "df['Breast Quadrant_3'] = df['Breast Quadrant_3'].astype(int)\n"
      ]
    },
    {
      "cell_type": "code",
      "execution_count": 24,
      "metadata": {
        "colab": {
          "base_uri": "https://localhost:8080/",
          "height": 223
        },
        "id": "e-G5libzkXZM",
        "outputId": "f4d6cb4f-34bd-4d84-e9be-46671c70c2c2"
      },
      "outputs": [
        {
          "data": {
            "text/html": [
              "<div>\n",
              "<style scoped>\n",
              "    .dataframe tbody tr th:only-of-type {\n",
              "        vertical-align: middle;\n",
              "    }\n",
              "\n",
              "    .dataframe tbody tr th {\n",
              "        vertical-align: top;\n",
              "    }\n",
              "\n",
              "    .dataframe thead th {\n",
              "        text-align: right;\n",
              "    }\n",
              "</style>\n",
              "<table border=\"1\" class=\"dataframe\">\n",
              "  <thead>\n",
              "    <tr style=\"text-align: right;\">\n",
              "      <th></th>\n",
              "      <th>Year</th>\n",
              "      <th>Age</th>\n",
              "      <th>Menopause</th>\n",
              "      <th>Tumor Size (cm)</th>\n",
              "      <th>Inv-Nodes</th>\n",
              "      <th>Breast</th>\n",
              "      <th>Metastasis</th>\n",
              "      <th>History</th>\n",
              "      <th>Diagnosis Result</th>\n",
              "      <th>Breast Quadrant_0</th>\n",
              "      <th>Breast Quadrant_1</th>\n",
              "      <th>Breast Quadrant_2</th>\n",
              "      <th>Breast Quadrant_3</th>\n",
              "    </tr>\n",
              "  </thead>\n",
              "  <tbody>\n",
              "    <tr>\n",
              "      <th>99</th>\n",
              "      <td>2019.0</td>\n",
              "      <td>46</td>\n",
              "      <td>0</td>\n",
              "      <td>7.0</td>\n",
              "      <td>0</td>\n",
              "      <td>1</td>\n",
              "      <td>0</td>\n",
              "      <td>0</td>\n",
              "      <td>0</td>\n",
              "      <td>0</td>\n",
              "      <td>0</td>\n",
              "      <td>1</td>\n",
              "      <td>0</td>\n",
              "    </tr>\n",
              "    <tr>\n",
              "      <th>177</th>\n",
              "      <td>2020.0</td>\n",
              "      <td>62</td>\n",
              "      <td>1</td>\n",
              "      <td>2.0</td>\n",
              "      <td>0</td>\n",
              "      <td>1</td>\n",
              "      <td>0</td>\n",
              "      <td>1</td>\n",
              "      <td>1</td>\n",
              "      <td>1</td>\n",
              "      <td>0</td>\n",
              "      <td>0</td>\n",
              "      <td>0</td>\n",
              "    </tr>\n",
              "    <tr>\n",
              "      <th>184</th>\n",
              "      <td>2020.0</td>\n",
              "      <td>20</td>\n",
              "      <td>1</td>\n",
              "      <td>2.0</td>\n",
              "      <td>0</td>\n",
              "      <td>1</td>\n",
              "      <td>0</td>\n",
              "      <td>1</td>\n",
              "      <td>1</td>\n",
              "      <td>0</td>\n",
              "      <td>0</td>\n",
              "      <td>0</td>\n",
              "      <td>1</td>\n",
              "    </tr>\n",
              "    <tr>\n",
              "      <th>65</th>\n",
              "      <td>2019.0</td>\n",
              "      <td>42</td>\n",
              "      <td>1</td>\n",
              "      <td>8.0</td>\n",
              "      <td>0</td>\n",
              "      <td>0</td>\n",
              "      <td>0</td>\n",
              "      <td>0</td>\n",
              "      <td>0</td>\n",
              "      <td>0</td>\n",
              "      <td>0</td>\n",
              "      <td>1</td>\n",
              "      <td>0</td>\n",
              "    </tr>\n",
              "    <tr>\n",
              "      <th>136</th>\n",
              "      <td>2020.0</td>\n",
              "      <td>30</td>\n",
              "      <td>1</td>\n",
              "      <td>1.0</td>\n",
              "      <td>0</td>\n",
              "      <td>1</td>\n",
              "      <td>0</td>\n",
              "      <td>0</td>\n",
              "      <td>1</td>\n",
              "      <td>1</td>\n",
              "      <td>0</td>\n",
              "      <td>0</td>\n",
              "      <td>0</td>\n",
              "    </tr>\n",
              "  </tbody>\n",
              "</table>\n",
              "</div>"
            ],
            "text/plain": [
              "       Year  Age  Menopause  Tumor Size (cm)  Inv-Nodes  Breast  Metastasis  \\\n",
              "99   2019.0   46          0              7.0          0       1           0   \n",
              "177  2020.0   62          1              2.0          0       1           0   \n",
              "184  2020.0   20          1              2.0          0       1           0   \n",
              "65   2019.0   42          1              8.0          0       0           0   \n",
              "136  2020.0   30          1              1.0          0       1           0   \n",
              "\n",
              "     History  Diagnosis Result  Breast Quadrant_0  Breast Quadrant_1  \\\n",
              "99         0                 0                  0                  0   \n",
              "177        1                 1                  1                  0   \n",
              "184        1                 1                  0                  0   \n",
              "65         0                 0                  0                  0   \n",
              "136        0                 1                  1                  0   \n",
              "\n",
              "     Breast Quadrant_2  Breast Quadrant_3  \n",
              "99                   1                  0  \n",
              "177                  0                  0  \n",
              "184                  0                  1  \n",
              "65                   1                  0  \n",
              "136                  0                  0  "
            ]
          },
          "execution_count": 24,
          "metadata": {},
          "output_type": "execute_result"
        }
      ],
      "source": [
        "df.sample(5)"
      ]
    },
    {
      "cell_type": "code",
      "execution_count": 25,
      "metadata": {
        "colab": {
          "base_uri": "https://localhost:8080/"
        },
        "id": "yy-cKmTAUzYF",
        "outputId": "235fcc04-0fa6-4d32-9676-16095e0ea56f"
      },
      "outputs": [
        {
          "name": "stdout",
          "output_type": "stream",
          "text": [
            "Year: [2019. 2020.]\n",
            "Age: [40 39 45 26 21 50 58 35 42 41 43 30 33 38 60 47 57 34 31 36 56 48 61 20\n",
            " 37 27 25 17 23 59 67 46 24 49 53 28 68 64 18 14 15 54 71 55 22 65 19 52\n",
            " 51 44 63 29 32 62 69 13 16 77]\n",
            "Menopause: [1 0]\n",
            "Tumor Size (cm): [ 2.  4.  3.  1.  5.  6.  7. 10.  8.  9. 14. 12.]\n",
            "Inv-Nodes: [0 1 3]\n",
            "Breast: [1 0]\n",
            "Metastasis: [0 1]\n",
            "History: [0 1]\n",
            "Diagnosis Result: [1 0]\n",
            "Breast Quadrant_0: [1 0]\n",
            "Breast Quadrant_1: [0 1]\n",
            "Breast Quadrant_2: [0 1]\n",
            "Breast Quadrant_3: [0 1]\n"
          ]
        }
      ],
      "source": [
        "for i in df.columns:\n",
        "    print(f\"{i}: {df[i].unique()}\")"
      ]
    },
    {
      "cell_type": "code",
      "execution_count": 26,
      "metadata": {
        "id": "inUUgLlizO54"
      },
      "outputs": [],
      "source": [
        "df['Inv-Nodes'] = df['Inv-Nodes'].apply(lambda x: 1 if x == 3 else x)"
      ]
    },
    {
      "cell_type": "code",
      "execution_count": 27,
      "metadata": {
        "colab": {
          "base_uri": "https://localhost:8080/"
        },
        "id": "OFcJrQrv0_Ub",
        "outputId": "44e6aea3-026b-4a26-b018-099db774d3eb"
      },
      "outputs": [
        {
          "data": {
            "text/plain": [
              "array([0, 1], dtype=int64)"
            ]
          },
          "execution_count": 27,
          "metadata": {},
          "output_type": "execute_result"
        }
      ],
      "source": [
        "df['Inv-Nodes'].unique()"
      ]
    },
    {
      "cell_type": "code",
      "execution_count": 28,
      "metadata": {
        "colab": {
          "base_uri": "https://localhost:8080/"
        },
        "id": "R8UScohimLAl",
        "outputId": "6c3ccff2-11d3-47a5-9505-9bc85da7b713"
      },
      "outputs": [
        {
          "name": "stdout",
          "output_type": "stream",
          "text": [
            "<class 'pandas.core.frame.DataFrame'>\n",
            "RangeIndex: 213 entries, 0 to 212\n",
            "Data columns (total 13 columns):\n",
            " #   Column             Non-Null Count  Dtype  \n",
            "---  ------             --------------  -----  \n",
            " 0   Year               213 non-null    float64\n",
            " 1   Age                213 non-null    int64  \n",
            " 2   Menopause          213 non-null    int64  \n",
            " 3   Tumor Size (cm)    213 non-null    float64\n",
            " 4   Inv-Nodes          213 non-null    int64  \n",
            " 5   Breast             213 non-null    int32  \n",
            " 6   Metastasis         213 non-null    int32  \n",
            " 7   History            213 non-null    int32  \n",
            " 8   Diagnosis Result   213 non-null    int64  \n",
            " 9   Breast Quadrant_0  213 non-null    int32  \n",
            " 10  Breast Quadrant_1  213 non-null    int32  \n",
            " 11  Breast Quadrant_2  213 non-null    int32  \n",
            " 12  Breast Quadrant_3  213 non-null    int32  \n",
            "dtypes: float64(2), int32(7), int64(4)\n",
            "memory usage: 15.9 KB\n"
          ]
        }
      ],
      "source": [
        "df.info()"
      ]
    },
    {
      "cell_type": "code",
      "execution_count": 29,
      "metadata": {
        "colab": {
          "base_uri": "https://localhost:8080/",
          "height": 223
        },
        "id": "eLTlfMjO-825",
        "outputId": "5ea0c4f9-0529-4344-c436-49640c8cea32"
      },
      "outputs": [
        {
          "data": {
            "text/html": [
              "<div>\n",
              "<style scoped>\n",
              "    .dataframe tbody tr th:only-of-type {\n",
              "        vertical-align: middle;\n",
              "    }\n",
              "\n",
              "    .dataframe tbody tr th {\n",
              "        vertical-align: top;\n",
              "    }\n",
              "\n",
              "    .dataframe thead th {\n",
              "        text-align: right;\n",
              "    }\n",
              "</style>\n",
              "<table border=\"1\" class=\"dataframe\">\n",
              "  <thead>\n",
              "    <tr style=\"text-align: right;\">\n",
              "      <th></th>\n",
              "      <th>Year</th>\n",
              "      <th>Age</th>\n",
              "      <th>Menopause</th>\n",
              "      <th>Tumor Size (cm)</th>\n",
              "      <th>Inv-Nodes</th>\n",
              "      <th>Breast</th>\n",
              "      <th>Metastasis</th>\n",
              "      <th>History</th>\n",
              "      <th>Diagnosis Result</th>\n",
              "      <th>Breast Quadrant_0</th>\n",
              "      <th>Breast Quadrant_1</th>\n",
              "      <th>Breast Quadrant_2</th>\n",
              "      <th>Breast Quadrant_3</th>\n",
              "    </tr>\n",
              "  </thead>\n",
              "  <tbody>\n",
              "    <tr>\n",
              "      <th>0</th>\n",
              "      <td>2019.0</td>\n",
              "      <td>40</td>\n",
              "      <td>1</td>\n",
              "      <td>2.0</td>\n",
              "      <td>0</td>\n",
              "      <td>1</td>\n",
              "      <td>0</td>\n",
              "      <td>0</td>\n",
              "      <td>1</td>\n",
              "      <td>1</td>\n",
              "      <td>0</td>\n",
              "      <td>0</td>\n",
              "      <td>0</td>\n",
              "    </tr>\n",
              "    <tr>\n",
              "      <th>1</th>\n",
              "      <td>2019.0</td>\n",
              "      <td>39</td>\n",
              "      <td>1</td>\n",
              "      <td>2.0</td>\n",
              "      <td>0</td>\n",
              "      <td>0</td>\n",
              "      <td>0</td>\n",
              "      <td>0</td>\n",
              "      <td>1</td>\n",
              "      <td>0</td>\n",
              "      <td>1</td>\n",
              "      <td>0</td>\n",
              "      <td>0</td>\n",
              "    </tr>\n",
              "    <tr>\n",
              "      <th>2</th>\n",
              "      <td>2019.0</td>\n",
              "      <td>45</td>\n",
              "      <td>0</td>\n",
              "      <td>4.0</td>\n",
              "      <td>0</td>\n",
              "      <td>0</td>\n",
              "      <td>0</td>\n",
              "      <td>0</td>\n",
              "      <td>1</td>\n",
              "      <td>0</td>\n",
              "      <td>0</td>\n",
              "      <td>1</td>\n",
              "      <td>0</td>\n",
              "    </tr>\n",
              "    <tr>\n",
              "      <th>3</th>\n",
              "      <td>2019.0</td>\n",
              "      <td>26</td>\n",
              "      <td>1</td>\n",
              "      <td>3.0</td>\n",
              "      <td>0</td>\n",
              "      <td>0</td>\n",
              "      <td>0</td>\n",
              "      <td>1</td>\n",
              "      <td>1</td>\n",
              "      <td>0</td>\n",
              "      <td>0</td>\n",
              "      <td>0</td>\n",
              "      <td>1</td>\n",
              "    </tr>\n",
              "    <tr>\n",
              "      <th>4</th>\n",
              "      <td>2019.0</td>\n",
              "      <td>21</td>\n",
              "      <td>1</td>\n",
              "      <td>1.0</td>\n",
              "      <td>0</td>\n",
              "      <td>1</td>\n",
              "      <td>0</td>\n",
              "      <td>1</td>\n",
              "      <td>1</td>\n",
              "      <td>0</td>\n",
              "      <td>1</td>\n",
              "      <td>0</td>\n",
              "      <td>0</td>\n",
              "    </tr>\n",
              "  </tbody>\n",
              "</table>\n",
              "</div>"
            ],
            "text/plain": [
              "     Year  Age  Menopause  Tumor Size (cm)  Inv-Nodes  Breast  Metastasis  \\\n",
              "0  2019.0   40          1              2.0          0       1           0   \n",
              "1  2019.0   39          1              2.0          0       0           0   \n",
              "2  2019.0   45          0              4.0          0       0           0   \n",
              "3  2019.0   26          1              3.0          0       0           0   \n",
              "4  2019.0   21          1              1.0          0       1           0   \n",
              "\n",
              "   History  Diagnosis Result  Breast Quadrant_0  Breast Quadrant_1  \\\n",
              "0        0                 1                  1                  0   \n",
              "1        0                 1                  0                  1   \n",
              "2        0                 1                  0                  0   \n",
              "3        1                 1                  0                  0   \n",
              "4        1                 1                  0                  1   \n",
              "\n",
              "   Breast Quadrant_2  Breast Quadrant_3  \n",
              "0                  0                  0  \n",
              "1                  0                  0  \n",
              "2                  1                  0  \n",
              "3                  0                  1  \n",
              "4                  0                  0  "
            ]
          },
          "execution_count": 29,
          "metadata": {},
          "output_type": "execute_result"
        }
      ],
      "source": [
        "df.head()"
      ]
    },
    {
      "cell_type": "code",
      "execution_count": 30,
      "metadata": {
        "colab": {
          "base_uri": "https://localhost:8080/",
          "height": 223
        },
        "id": "Te8ZbJ1YAzvm",
        "outputId": "8883971b-caae-4bec-812f-703e3e1a5a96"
      },
      "outputs": [
        {
          "data": {
            "text/html": [
              "<div>\n",
              "<style scoped>\n",
              "    .dataframe tbody tr th:only-of-type {\n",
              "        vertical-align: middle;\n",
              "    }\n",
              "\n",
              "    .dataframe tbody tr th {\n",
              "        vertical-align: top;\n",
              "    }\n",
              "\n",
              "    .dataframe thead th {\n",
              "        text-align: right;\n",
              "    }\n",
              "</style>\n",
              "<table border=\"1\" class=\"dataframe\">\n",
              "  <thead>\n",
              "    <tr style=\"text-align: right;\">\n",
              "      <th></th>\n",
              "      <th>Year</th>\n",
              "      <th>Age</th>\n",
              "      <th>Menopause</th>\n",
              "      <th>Tumor Size (cm)</th>\n",
              "      <th>Inv-Nodes</th>\n",
              "      <th>Breast</th>\n",
              "      <th>Metastasis</th>\n",
              "      <th>History</th>\n",
              "      <th>Breast Quadrant_0</th>\n",
              "      <th>Breast Quadrant_1</th>\n",
              "      <th>Breast Quadrant_2</th>\n",
              "      <th>Breast Quadrant_3</th>\n",
              "      <th>Diagnosis Result</th>\n",
              "    </tr>\n",
              "  </thead>\n",
              "  <tbody>\n",
              "    <tr>\n",
              "      <th>0</th>\n",
              "      <td>2019.0</td>\n",
              "      <td>40</td>\n",
              "      <td>1</td>\n",
              "      <td>2.0</td>\n",
              "      <td>0</td>\n",
              "      <td>1</td>\n",
              "      <td>0</td>\n",
              "      <td>0</td>\n",
              "      <td>1</td>\n",
              "      <td>0</td>\n",
              "      <td>0</td>\n",
              "      <td>0</td>\n",
              "      <td>1</td>\n",
              "    </tr>\n",
              "    <tr>\n",
              "      <th>1</th>\n",
              "      <td>2019.0</td>\n",
              "      <td>39</td>\n",
              "      <td>1</td>\n",
              "      <td>2.0</td>\n",
              "      <td>0</td>\n",
              "      <td>0</td>\n",
              "      <td>0</td>\n",
              "      <td>0</td>\n",
              "      <td>0</td>\n",
              "      <td>1</td>\n",
              "      <td>0</td>\n",
              "      <td>0</td>\n",
              "      <td>1</td>\n",
              "    </tr>\n",
              "    <tr>\n",
              "      <th>2</th>\n",
              "      <td>2019.0</td>\n",
              "      <td>45</td>\n",
              "      <td>0</td>\n",
              "      <td>4.0</td>\n",
              "      <td>0</td>\n",
              "      <td>0</td>\n",
              "      <td>0</td>\n",
              "      <td>0</td>\n",
              "      <td>0</td>\n",
              "      <td>0</td>\n",
              "      <td>1</td>\n",
              "      <td>0</td>\n",
              "      <td>1</td>\n",
              "    </tr>\n",
              "    <tr>\n",
              "      <th>3</th>\n",
              "      <td>2019.0</td>\n",
              "      <td>26</td>\n",
              "      <td>1</td>\n",
              "      <td>3.0</td>\n",
              "      <td>0</td>\n",
              "      <td>0</td>\n",
              "      <td>0</td>\n",
              "      <td>1</td>\n",
              "      <td>0</td>\n",
              "      <td>0</td>\n",
              "      <td>0</td>\n",
              "      <td>1</td>\n",
              "      <td>1</td>\n",
              "    </tr>\n",
              "    <tr>\n",
              "      <th>4</th>\n",
              "      <td>2019.0</td>\n",
              "      <td>21</td>\n",
              "      <td>1</td>\n",
              "      <td>1.0</td>\n",
              "      <td>0</td>\n",
              "      <td>1</td>\n",
              "      <td>0</td>\n",
              "      <td>1</td>\n",
              "      <td>0</td>\n",
              "      <td>1</td>\n",
              "      <td>0</td>\n",
              "      <td>0</td>\n",
              "      <td>1</td>\n",
              "    </tr>\n",
              "  </tbody>\n",
              "</table>\n",
              "</div>"
            ],
            "text/plain": [
              "     Year  Age  Menopause  Tumor Size (cm)  Inv-Nodes  Breast  Metastasis  \\\n",
              "0  2019.0   40          1              2.0          0       1           0   \n",
              "1  2019.0   39          1              2.0          0       0           0   \n",
              "2  2019.0   45          0              4.0          0       0           0   \n",
              "3  2019.0   26          1              3.0          0       0           0   \n",
              "4  2019.0   21          1              1.0          0       1           0   \n",
              "\n",
              "   History  Breast Quadrant_0  Breast Quadrant_1  Breast Quadrant_2  \\\n",
              "0        0                  1                  0                  0   \n",
              "1        0                  0                  1                  0   \n",
              "2        0                  0                  0                  1   \n",
              "3        1                  0                  0                  0   \n",
              "4        1                  0                  1                  0   \n",
              "\n",
              "   Breast Quadrant_3  Diagnosis Result  \n",
              "0                  0                 1  \n",
              "1                  0                 1  \n",
              "2                  0                 1  \n",
              "3                  1                 1  \n",
              "4                  0                 1  "
            ]
          },
          "execution_count": 30,
          "metadata": {},
          "output_type": "execute_result"
        }
      ],
      "source": [
        "diagnosis_result = df['Diagnosis Result']\n",
        "df = df.drop('Diagnosis Result', axis=1)\n",
        "df['Diagnosis Result'] = diagnosis_result\n",
        "df.head()"
      ]
    },
    {
      "cell_type": "markdown",
      "metadata": {
        "id": "lBCTe_KWgIh6"
      },
      "source": [
        "##normalizing"
      ]
    },
    {
      "cell_type": "code",
      "execution_count": 31,
      "metadata": {
        "colab": {
          "base_uri": "https://localhost:8080/"
        },
        "id": "FKJjUHKegPKj",
        "outputId": "3e9cbe24-47ee-45cf-f0e7-e469caea52c9"
      },
      "outputs": [
        {
          "name": "stdout",
          "output_type": "stream",
          "text": [
            "     Year       Age  Tumor Size (cm)\n",
            "0     0.0  0.421875         0.076923\n",
            "1     0.0  0.406250         0.076923\n",
            "2     0.0  0.500000         0.230769\n",
            "3     0.0  0.203125         0.153846\n",
            "4     0.0  0.125000         0.000000\n",
            "..    ...       ...              ...\n",
            "208   1.0  0.562500         0.384615\n",
            "209   1.0  0.234375         0.153846\n",
            "210   1.0  0.140625         0.000000\n",
            "211   1.0  0.093750         0.000000\n",
            "212   1.0  0.578125         0.230769\n",
            "\n",
            "[213 rows x 3 columns]\n"
          ]
        }
      ],
      "source": [
        "scaler = MinMaxScaler()\n",
        "features = ['Year', 'Age', 'Tumor Size (cm)']\n",
        "\n",
        "df[features] = scaler.fit_transform(df[features])\n",
        "\n",
        "print(df[features])"
      ]
    },
    {
      "cell_type": "markdown",
      "metadata": {
        "id": "4jTzp3N0jdyP"
      },
      "source": [
        "#**Visualization**"
      ]
    },
    {
      "cell_type": "code",
      "execution_count": 32,
      "metadata": {
        "colab": {
          "base_uri": "https://localhost:8080/",
          "height": 0
        },
        "id": "ioFkj0PSjicN",
        "outputId": "2d2edea2-871c-4c8d-ae12-beae620f5e60"
      },
      "outputs": [
        {
          "data": {
            "image/png": "[encoded data removed]",
            "text/plain": [
              "<Figure size 800x800 with 2 Axes>"
            ]
          },
          "metadata": {},
          "output_type": "display_data"
        }
      ],
      "source": [
        "correlation_matrix = df.corr()\n",
        "\n",
        "plt.figure(figsize=(8, 8))\n",
        "sns.heatmap(correlation_matrix, annot=True, fmt='.2f', cmap='coolwarm')\n",
        "plt.title('Heatmap of Feature Correlations')\n",
        "plt.show()"
      ]
    },
    {
      "cell_type": "code",
      "execution_count": 33,
      "metadata": {
        "colab": {
          "base_uri": "https://localhost:8080/",
          "height": 0
        },
        "id": "fVv6e-h8DyIT",
        "outputId": "febc9c26-fda6-447e-9f3b-7be0b6d2992a"
      },
      "outputs": [
        {
          "data": {
            "image/png": "[encoded data removed]",
            "text/plain": [
              "<Figure size 640x480 with 1 Axes>"
            ]
          },
          "metadata": {},
          "output_type": "display_data"
        }
      ],
      "source": [
        "sns.scatterplot(data=df, x='Tumor Size (cm)', y='Diagnosis Result', hue='Diagnosis Result')\n",
        "plt.title('Scatter Plot of Tumor Size (cm) vs. Diagnosis Result')\n",
        "plt.xlabel('Tumor Size (cm)')\n",
        "plt.ylabel('Diagnosis Result')\n",
        "plt.show()"
      ]
    },
    {
      "cell_type": "code",
      "execution_count": 34,
      "metadata": {
        "colab": {
          "base_uri": "https://localhost:8080/",
          "height": 0
        },
        "id": "kyiuq_gxNbvE",
        "outputId": "df36c51a-f8c0-409d-e375-7d0ee427478f"
      },
      "outputs": [
        {
          "data": {
            "image/png": "[encoded data removed]",
            "text/plain": [
              "<Figure size 640x480 with 1 Axes>"
            ]
          },
          "metadata": {},
          "output_type": "display_data"
        }
      ],
      "source": [
        "sns.scatterplot(data=df, x='Age', y='Diagnosis Result', hue='Diagnosis Result')\n",
        "plt.title('Scatter Plot of Age vs. Diagnosis Result')\n",
        "plt.xlabel('Age')\n",
        "plt.ylabel('Diagnosis Result')\n",
        "plt.show()"
      ]
    },
    {
      "cell_type": "code",
      "execution_count": 35,
      "metadata": {
        "colab": {
          "base_uri": "https://localhost:8080/",
          "height": 0
        },
        "id": "7G9R6hgpNuO0",
        "outputId": "6a91b038-a359-48c8-aab4-a9ab250dc77d"
      },
      "outputs": [
        {
          "data": {
            "image/png": "[encoded data removed]",
            "text/plain": [
              "<Figure size 640x480 with 1 Axes>"
            ]
          },
          "metadata": {},
          "output_type": "display_data"
        }
      ],
      "source": [
        "sns.scatterplot(data=df, x='Age', y='Tumor Size (cm)', alpha=0.6)\n",
        "plt.title('Scatter Plot of Age vs. Tumor Size (cm)')\n",
        "plt.xlabel('Age')\n",
        "plt.ylabel('Tumor Size (cm)')\n",
        "plt.show()"
      ]
    },
    {
      "cell_type": "markdown",
      "metadata": {
        "id": "RyphDghEqklu"
      },
      "source": [
        "#Test and Train\n"
      ]
    },
    {
      "cell_type": "code",
      "execution_count": 36,
      "metadata": {
        "colab": {
          "base_uri": "https://localhost:8080/"
        },
        "id": "2jaQTSn7tFnq",
        "outputId": "747b616a-f13c-4027-fe91-5a15e01e66a3"
      },
      "outputs": [
        {
          "name": "stdout",
          "output_type": "stream",
          "text": [
            "(213, 12)\n",
            "(213,)\n"
          ]
        }
      ],
      "source": [
        "X = df.iloc[:, :-1]\n",
        "Y = df.iloc[:, -1]\n",
        "print(X.shape)\n",
        "print(Y.shape)"
      ]
    },
    {
      "cell_type": "code",
      "execution_count": 37,
      "metadata": {
        "colab": {
          "base_uri": "https://localhost:8080/"
        },
        "id": "4fMv6gTKu70I",
        "outputId": "365ffe73-fc09-4598-e2b6-9db8f837a4e3"
      },
      "outputs": [
        {
          "name": "stdout",
          "output_type": "stream",
          "text": [
            "(149, 12)\n",
            "(149,)\n",
            "(64, 12)\n",
            "(64,)\n",
            "(32, 12)\n",
            "(32,)\n",
            "(32, 12)\n",
            "(32,)\n"
          ]
        }
      ],
      "source": [
        "x_train, x_dev_test, y_train, y_dev_test = train_test_split(X, Y, train_size=0.7, random_state=5)\n",
        "print(x_train.shape)\n",
        "print(y_train.shape)\n",
        "print(x_dev_test.shape)\n",
        "print(y_dev_test.shape)\n",
        "\n",
        "x_test, x_dev, y_test, y_dev = train_test_split(x_dev_test, y_dev_test, train_size=0.5, random_state=5)\n",
        "print(x_test.shape)\n",
        "print(y_test.shape)\n",
        "print(x_dev.shape)\n",
        "print(y_dev.shape)"
      ]
    },
    {
      "cell_type": "markdown",
      "metadata": {
        "id": "DL4-j25SHaGz"
      },
      "source": [
        "#**Logistic** **Regression**"
      ]
    },
    {
      "cell_type": "code",
      "execution_count": 38,
      "metadata": {
        "id": "2Y7VoWpY9Y3u"
      },
      "outputs": [],
      "source": [
        "def sigmoid(z):\n",
        "    return 1 / (1 + np.exp(-z))"
      ]
    },
    {
      "cell_type": "code",
      "execution_count": 39,
      "metadata": {
        "colab": {
          "base_uri": "https://localhost:8080/"
        },
        "id": "bDNuC90V91CF",
        "outputId": "3c4f32f5-2925-4cdd-f634-2ff6aea8649b"
      },
      "outputs": [
        {
          "data": {
            "text/plain": [
              "0.5"
            ]
          },
          "execution_count": 39,
          "metadata": {},
          "output_type": "execute_result"
        }
      ],
      "source": [
        "sigmoid(0)"
      ]
    },
    {
      "cell_type": "code",
      "execution_count": 40,
      "metadata": {
        "id": "v4I0QPIy2frf"
      },
      "outputs": [],
      "source": [
        "def logistic_regression(X, Y, alpha, num_iter, add_intercept):\n",
        "    \"\"\"\n",
        "    X             -> [n_samples, n_features]\n",
        "    Y             -> [n_samples, 1]     labels\n",
        "    alpha         -> learning rate\n",
        "    num_iter      -> number of iteration of the algorithm\n",
        "    add_intercept -> (boolean) bias term\n",
        "    \"\"\"\n",
        "    epsilon = 1e-5\n",
        "    if add_intercept:\n",
        "        intercept = np.ones((X.shape[0], 1))\n",
        "        X = np.concatenate((intercept, X), axis=1)\n",
        "\n",
        "    m, n = X.shape\n",
        "    w = np.zeros(n)\n",
        "    b = 0\n",
        "\n",
        "    for epoch in range(num_iter):\n",
        "        total_cost = 0\n",
        "\n",
        "        dw = np.zeros(n)\n",
        "        db = 0\n",
        "\n",
        "        z = np.dot(X, w) + b\n",
        "        z = z.astype(float)\n",
        "        a = sigmoid(z)\n",
        "        total_cost = -np.sum(Y * np.log(a + epsilon) + (1 - Y) * np.log(1 - a + epsilon))\n",
        "        dz = a - Y\n",
        "\n",
        "        dw = np.dot(X.T, dz)\n",
        "        db = np.sum(dz)\n",
        "\n",
        "        total_cost /= m\n",
        "        dw /= m\n",
        "        db /= m\n",
        "\n",
        "        w -= alpha * dw\n",
        "        b -= alpha * db\n",
        "\n",
        "\n",
        "    return w, b\n",
        "\n"
      ]
    },
    {
      "cell_type": "code",
      "execution_count": 41,
      "metadata": {
        "id": "xvPp0Cp26wzl"
      },
      "outputs": [],
      "source": [
        "def predict(X, w, b, add_intercept):\n",
        "    if add_intercept:\n",
        "        intercept = np.ones((X.shape[0], 1))\n",
        "        X = np.concatenate((intercept, X), axis=1)\n",
        "    z = np.dot(X, w) + b\n",
        "    z = z.astype(float)\n",
        "    a = sigmoid(z)\n",
        "    return (a >= 0.5).astype(int)"
      ]
    },
    {
      "cell_type": "code",
      "execution_count": 42,
      "metadata": {
        "colab": {
          "base_uri": "https://localhost:8080/"
        },
        "id": "Vu82ZmpHFrD6",
        "outputId": "107b331c-6f09-43d6-c849-bd12b6ad38d8"
      },
      "outputs": [
        {
          "name": "stdout",
          "output_type": "stream",
          "text": [
            "Accuracy: 0.88\n",
            "precision: 0.82\n",
            "recall: 1.00\n",
            "f1_score: 0.90\n"
          ]
        }
      ],
      "source": [
        "alpha = 0.01\n",
        "num_iteration = 1000\n",
        "add_intercept = True\n",
        "\n",
        "# test the model on dev\n",
        "w, b = logistic_regression(x_train, y_train, alpha, num_iteration, add_intercept)\n",
        "\n",
        "y_pred = predict(x_dev, w, b, add_intercept)\n",
        "\n",
        "precision = precision_score(y_dev, y_pred)\n",
        "recall = recall_score(y_dev, y_pred)\n",
        "f1 = f1_score(y_dev, y_pred)\n",
        "accuracy = (y_pred == y_dev).mean()\n",
        "print(f'Accuracy: {accuracy:.2f}')\n",
        "print(f'precision: {precision:.2f}')\n",
        "print(f'recall: {recall:.2f}')\n",
        "print(f'f1_score: {f1:.2f}')"
      ]
    },
    {
      "cell_type": "code",
      "execution_count": 43,
      "metadata": {
        "colab": {
          "base_uri": "https://localhost:8080/",
          "height": 593
        },
        "id": "_KxhneE115qJ",
        "outputId": "bb821d99-af10-42c6-9d06-fdfab495493b"
      },
      "outputs": [
        {
          "name": "stdout",
          "output_type": "stream",
          "text": [
            "w: [ 0.21953101  0.16323564 -0.28457275  0.69111598 -0.39509808 -1.02508945\n",
            "  0.05525733 -0.87594129 -0.21361131  0.03396691 -0.29793535  0.17304178\n",
            "  0.31045767], b: 0.21953101370540054\n"
          ]
        },
        {
          "data": {
            "image/png": "[encoded data removed]",
            "text/plain": [
              "<Figure size 640x480 with 1 Axes>"
            ]
          },
          "metadata": {},
          "output_type": "display_data"
        },
        {
          "name": "stdout",
          "output_type": "stream",
          "text": [
            "Accuracy: 0.97\n",
            "precision: 0.96\n",
            "recall: 1.00\n",
            "f1_score: 0.98\n"
          ]
        }
      ],
      "source": [
        "alpha = 0.01\n",
        "num_iteration = 1000\n",
        "add_intercept = True\n",
        "\n",
        "#test the model on test\n",
        "w, b = logistic_regression(x_train, y_train, alpha, num_iteration, add_intercept)\n",
        "\n",
        "y_pred = predict(x_test, w, b, add_intercept)\n",
        "print(f\"w: {w}, b: {b}\")\n",
        "\n",
        "precision = precision_score(y_test, y_pred)\n",
        "recall = recall_score(y_test, y_pred)\n",
        "f1 = f1_score(y_test, y_pred)\n",
        "\n",
        "plt.scatter(range(len(y_test)), y_test, color='blue', label='Actual')\n",
        "plt.scatter(range(len(y_pred)), y_pred, color='red', label='Predicted', marker='x')\n",
        "plt.xlabel('Sample index')\n",
        "plt.ylabel('0: Malignant    1: Benign')\n",
        "plt.title('y_pred vs Actual with small alpha')\n",
        "plt.legend()\n",
        "plt.show()\n",
        "\n",
        "accuracy = (y_pred == y_test).mean()\n",
        "print(f'Accuracy: {accuracy:.2f}')\n",
        "print(f'precision: {precision:.2f}')\n",
        "print(f'recall: {recall:.2f}')\n",
        "print(f'f1_score: {f1:.2f}')"
      ]
    },
    {
      "cell_type": "code",
      "execution_count": 44,
      "metadata": {
        "colab": {
          "base_uri": "https://localhost:8080/",
          "height": 593
        },
        "id": "EjrbrY1y5Lu1",
        "outputId": "e697f809-65a5-489d-d4a6-215cc4e7a3ac"
      },
      "outputs": [
        {
          "name": "stdout",
          "output_type": "stream",
          "text": [
            "w: [ 12.96322483   6.69802754 -21.47586597   2.91801433 -52.02685759\n",
            " -10.88881775   6.30726538  -7.64438799  -2.05767347  -0.63626558\n",
            "  -0.29909544   9.34069125   4.5578946 ], b: 12.96322482969214\n"
          ]
        },
        {
          "data": {
            "image/png": "[encoded data removed]",
            "text/plain": [
              "<Figure size 640x480 with 1 Axes>"
            ]
          },
          "metadata": {},
          "output_type": "display_data"
        },
        {
          "name": "stdout",
          "output_type": "stream",
          "text": [
            "Accuracy: 0.94\n",
            "precision: 0.95\n",
            "recall: 0.95\n",
            "f1_score: 0.95\n"
          ]
        }
      ],
      "source": [
        "alpha = 50\n",
        "num_iteration = 1000\n",
        "add_intercept = True\n",
        "\n",
        "w, b = logistic_regression(x_train, y_train, alpha, num_iteration, add_intercept)\n",
        "\n",
        "y_pred = predict(x_test, w, b, add_intercept)\n",
        "print(f\"w: {w}, b: {b}\")\n",
        "\n",
        "precision = precision_score(y_test, y_pred)\n",
        "recall = recall_score(y_test, y_pred)\n",
        "f1 = f1_score(y_test, y_pred)\n",
        "\n",
        "plt.scatter(range(len(y_test)), y_test, color='blue', label='Actual')\n",
        "plt.scatter(range(len(y_pred)), y_pred, color='red', label='Predicted', marker='x')\n",
        "plt.xlabel('Sample index')\n",
        "plt.ylabel('0: Malignant    1: Benign')\n",
        "plt.title('y_pred vs Actual with big alpha')\n",
        "plt.legend()\n",
        "plt.show()\n",
        "\n",
        "accuracy = (y_pred == y_test).mean()\n",
        "print(f'Accuracy: {accuracy:.2f}')\n",
        "print(f'precision: {precision:.2f}')\n",
        "print(f'recall: {recall:.2f}')\n",
        "print(f'f1_score: {f1:.2f}')"
      ]
    },
    {
      "cell_type": "markdown",
      "metadata": {
        "id": "D2pZCb9E_oUN"
      },
      "source": [
        "**Precision:** Precision is the ratio of correctly predicted positive observations to the total predicted positives. It measures the accuracy of a classifier. High precision indicates a low rate of false positives.\n",
        "\n",
        "$$ \\text{Precision} = \\frac{TP}{TP + FP} $$\n",
        "\n",
        "**Recall:** Recall is the ratio of correctly predicted positive observations to all actual positives. It measures the completeness of a classifier. High recall indicates a low rate of false negatives.\n",
        "$$ \\text{Recall} = \\frac{TP}{TP + FN} $$\n",
        "\n",
        "**F1 Score:** The F1 Score is the weighted average of Precision and Recall. Therefore, it takes into account both false positives and false negatives. A high F1 Score indicates that a classifier has a good balance between Precision and Recall.\n",
        "\n",
        "\n",
        "$$ F1 = 2 \\times \\frac{\\text{Precision} \\times \\text{Recall}}{\\text{Precision} + \\text{Recall}} $$"
      ]
    },
    {
      "cell_type": "code",
      "execution_count": null,
      "metadata": {
        "id": "AHpf-caBCtIi"
      },
      "outputs": [],
      "source": []
    }
  ],
  "metadata": {
    "colab": {
      "gpuType": "T4",
      "provenance": []
    },
    "kernelspec": {
      "display_name": "Python 3",
      "name": "python3"
    },
    "language_info": {
      "codemirror_mode": {
        "name": "ipython",
        "version": 3
      },
      "file_extension": ".py",
      "mimetype": "text/x-python",
      "name": "python",
      "nbconvert_exporter": "python",
      "pygments_lexer": "ipython3",
      "version": "3.11.4"
    }
  },
  "nbformat": 4,
  "nbformat_minor": 0
}
