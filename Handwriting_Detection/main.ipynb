{
  "cells": [
    {
      "cell_type": "markdown",
      "metadata": {
        "id": "A1urYutkmdvS"
      },
      "source": [
        "#**1**"
      ]
    },
    {
      "cell_type": "code",
      "execution_count": 1,
      "metadata": {
        "colab": {
          "base_uri": "https://localhost:8080/"
        },
        "id": "i-v0chAklh0-",
        "outputId": "7e3a5da8-bb02-4cfb-da41-bf4681718892"
      },
      "outputs": [
        {
          "name": "stdout",
          "output_type": "stream",
          "text": [
            "Drive already mounted at /content/drive; to attempt to forcibly remount, call drive.mount(\"/content/drive\", force_remount=True).\n"
          ]
        }
      ],
      "source": [
        "from google.colab import drive\n",
        "drive.mount('/content/drive')"
      ]
    },
    {
      "cell_type": "code",
      "execution_count": 2,
      "metadata": {
        "id": "v3XmPnwCyZ9a"
      },
      "outputs": [],
      "source": [
        "import zipfile\n",
        "\n",
        "zip_file = zipfile.ZipFile('/content/drive/MyDrive/symbols.zip', 'r')\n",
        "zip_file.extractall('data')\n",
        "zip_file.close()"
      ]
    },
    {
      "cell_type": "markdown",
      "metadata": {
        "id": "JYaw7pZ5mlTP"
      },
      "source": [
        "#**1.1**"
      ]
    },
    {
      "cell_type": "code",
      "execution_count": 3,
      "metadata": {
        "colab": {
          "base_uri": "https://localhost:8080/",
          "height": 149
        },
        "id": "36sVJRB4y9pH",
        "outputId": "f9aa4d1a-3d42-424f-cfd8-0d8b06b8090a"
      },
      "outputs": [
        {
          "data": {
            "image/png": "[encoded data removed]",
            "text/plain": [
              "<Figure size 1500x1500 with 5 Axes>"
            ]
          },
          "metadata": {},
          "output_type": "display_data"
        }
      ],
      "source": [
        "import os\n",
        "import torch\n",
        "from torch.utils.data import Dataset, DataLoader\n",
        "from PIL import Image\n",
        "from torchvision import transforms\n",
        "import matplotlib.pyplot as plt\n",
        "\n",
        "data_path = '/content/data/symbols'\n",
        "label_mapping = {'0': 0, '1': 1, '2': 2, '3': 3, '4': 4, '5': 5, '6': 6, '7': 7,\n",
        "                 '8': 8, '9': 9, 'w': 10, 'x': 11, 'y': 12, 'z': 13, 'dot': 14,\n",
        "                 'plus': 15, 'minus': 16, 'slash': 17}\n",
        "\n",
        "class CustomDataset(Dataset):\n",
        "    def __init__(self, img_dir, img_labels, transform=None):\n",
        "        self.img_dir = img_dir\n",
        "        self.img_labels = img_labels\n",
        "        self.transform = transform\n",
        "\n",
        "    def _get_label(self, file_name):\n",
        "        label = file_name.split('-')[0]\n",
        "        if label.isdigit():\n",
        "            return int(label)\n",
        "        else:\n",
        "            return label_mapping.get(label, -1)\n",
        "\n",
        "    def __len__(self):\n",
        "        return len(self.img_labels)\n",
        "\n",
        "    def __getitem__(self, idx):\n",
        "        img_path, label = self.img_labels[idx]\n",
        "        image = Image.open(os.path.join(self.img_dir, img_path)).convert(\"L\")\n",
        "        if self.transform:\n",
        "            image = self.transform(image)\n",
        "        return image, label\n",
        "\n",
        "transform = transforms.Compose([transforms.ToTensor()])\n",
        "\n",
        "img_labels = [(file_name, CustomDataset._get_label(None, file_name)) for file_name in os.listdir(data_path)]\n",
        "\n",
        "dataset = CustomDataset(img_dir=data_path, img_labels=img_labels, transform=transform)\n",
        "\n",
        "train_loader = DataLoader(dataset, batch_size=32, shuffle=True)\n",
        "\n",
        "def show_sample_images(data_loader, num_images=5):\n",
        "    images, labels = next(iter(data_loader))\n",
        "    images = images.numpy()\n",
        "    fig, axes = plt.subplots(1, num_images, figsize=(15, 15))\n",
        "    for i in range(num_images):\n",
        "        ax = axes[i]\n",
        "        ax.imshow(images[i][0], cmap='gray')\n",
        "        ax.set_title(f'Label: {labels[i].item()}')\n",
        "        ax.axis('off')\n",
        "    plt.show()\n",
        "\n",
        "show_sample_images(train_loader, num_images=5)"
      ]
    },
    {
      "cell_type": "markdown",
      "metadata": {
        "id": "nORqN305mtL5"
      },
      "source": [
        "#**1.2**"
      ]
    },
    {
      "cell_type": "code",
      "execution_count": 4,
      "metadata": {
        "id": "rwFP28sE2ttk"
      },
      "outputs": [],
      "source": [
        "from sklearn.model_selection import train_test_split\n",
        "\n",
        "train_data, val_test_data = train_test_split(dataset, test_size=0.4, random_state=10)\n",
        "val_data, test_data = train_test_split(val_test_data, test_size=0.5, random_state=10)\n",
        "\n",
        "train_loader = DataLoader(train_data, batch_size=32, shuffle=True)\n",
        "val_loader = DataLoader(val_data, batch_size=32, shuffle=False)\n",
        "test_loader = DataLoader(test_data, batch_size=32, shuffle=False)\n"
      ]
    },
    {
      "cell_type": "markdown",
      "metadata": {
        "id": "t5bQekuhmxyP"
      },
      "source": [
        "#**1.3**"
      ]
    },
    {
      "cell_type": "code",
      "execution_count": 5,
      "metadata": {
        "colab": {
          "base_uri": "https://localhost:8080/",
          "height": 1000
        },
        "id": "zuPbn27JgpZX",
        "outputId": "9a8d975e-22c4-49f6-e986-19e86600876e"
      },
      "outputs": [
        {
          "data": {
            "image/png": "[encoded data removed]",
            "text/plain": [
              "<Figure size 640x480 with 1 Axes>"
            ]
          },
          "metadata": {},
          "output_type": "display_data"
        },
        {
          "data": {
            "image/png": "[encoded data removed]",
            "text/plain": [
              "<Figure size 640x480 with 1 Axes>"
            ]
          },
          "metadata": {},
          "output_type": "display_data"
        },
        {
          "data": {
            "image/png": "[encoded data removed]",
            "text/plain": [
              "<Figure size 640x480 with 1 Axes>"
            ]
          },
          "metadata": {},
          "output_type": "display_data"
        }
      ],
      "source": [
        "import numpy as np\n",
        "\n",
        "def plot_class(data_loader, title):\n",
        "    class_counts = np.zeros(18)\n",
        "    for _, labels in data_loader:\n",
        "        for label in labels:\n",
        "            class_counts[label] += 1\n",
        "\n",
        "    plt.figure()\n",
        "    plt.bar(range(len(class_counts)), class_counts)\n",
        "    plt.xlabel('Class')\n",
        "    plt.ylabel('Count')\n",
        "    plt.title(title)\n",
        "    plt.show()\n",
        "\n",
        "plot_class(train_loader, 'Training Set Class Distribution')\n",
        "plot_class(val_loader, 'Validation Set Class Distribution')\n",
        "plot_class(test_loader, 'Test Set Class Distribution')\n"
      ]
    },
    {
      "cell_type": "markdown",
      "metadata": {
        "id": "6vcn9WZum3-x"
      },
      "source": [
        "#**1.4**\n"
      ]
    },
    {
      "cell_type": "markdown",
      "metadata": {
        "id": "tfnDQsNtm_hW"
      },
      "source": [
        "The problem we might encounter is that the distribution of classes may not be equal in validation set and test set. so we will face some unwanted result and effects the accuracy of our algorithm."
      ]
    },
    {
      "cell_type": "code",
      "execution_count": 6,
      "metadata": {
        "colab": {
          "base_uri": "https://localhost:8080/",
          "height": 1000
        },
        "id": "wLu9QOGXikNq",
        "outputId": "c409a995-212d-4e47-c32d-22cae3ad14e0"
      },
      "outputs": [
        {
          "data": {
            "image/png": "[encoded data removed]",
            "text/plain": [
              "<Figure size 640x480 with 1 Axes>"
            ]
          },
          "metadata": {},
          "output_type": "display_data"
        },
        {
          "data": {
            "image/png": "[encoded data removed]",
            "text/plain": [
              "<Figure size 640x480 with 1 Axes>"
            ]
          },
          "metadata": {},
          "output_type": "display_data"
        },
        {
          "data": {
            "image/png": "[encoded data removed]",
            "text/plain": [
              "<Figure size 640x480 with 1 Axes>"
            ]
          },
          "metadata": {},
          "output_type": "display_data"
        }
      ],
      "source": [
        "from sklearn.model_selection import train_test_split\n",
        "# stratify helps to keep the balance between calss distribution\n",
        "\n",
        "\n",
        "train_img_labels, val_test_img_labels = train_test_split(\n",
        "    dataset.img_labels, test_size=0.3, random_state=42, stratify=[label for _, label in dataset.img_labels]\n",
        ")\n",
        "\n",
        "val_img_labels, test_img_labels = train_test_split(\n",
        "    val_test_img_labels, test_size=0.5, random_state=42, stratify=[label for _, label in val_test_img_labels]\n",
        ")\n",
        "\n",
        "train_dataset = CustomDataset(img_dir=data_path, img_labels=train_img_labels, transform=transform)\n",
        "val_dataset = CustomDataset(img_dir=data_path, img_labels=val_img_labels, transform=transform)\n",
        "test_dataset = CustomDataset(img_dir=data_path, img_labels=test_img_labels, transform=transform)\n",
        "\n",
        "train_loader = DataLoader(train_dataset, batch_size=32, shuffle=True)\n",
        "val_loader = DataLoader(val_dataset, batch_size=32, shuffle=False)\n",
        "test_loader = DataLoader(test_dataset, batch_size=32, shuffle=False)\n",
        "\n",
        "plot_class(train_loader, 'Training Set Class Distribution')\n",
        "plot_class(val_loader, 'Validation Set Class Distribution')\n",
        "plot_class(test_loader, 'Test Set Class Distribution')"
      ]
    },
    {
      "cell_type": "markdown",
      "metadata": {
        "id": "nLinLM7atvfe"
      },
      "source": [
        "#**1.5**"
      ]
    },
    {
      "cell_type": "markdown",
      "metadata": {
        "id": "nVVtIkRyw5Yv"
      },
      "source": [
        "####Why underfitting happens?\n",
        "**Simplistic Model:** If the model is too simple, it may not be capable of capturing the complexities in the data, leading to high bias.\n",
        "\n",
        "**Insufficient Training Data:** The size of the training dataset used might not be enough to allow the model to learn the patterns effectively.\n",
        "\n",
        "**Inadequate Features:** The input features used to train the model might not be adequate representations of the underlying factors influencing the target variable."
      ]
    },
    {
      "cell_type": "code",
      "execution_count": 7,
      "metadata": {
        "id": "BYRW9jJ7ojAC"
      },
      "outputs": [],
      "source": [
        "import torch.nn as nn\n",
        "import torch.nn.functional as F\n",
        "\n",
        "class UnderfittingModel(nn.Module):\n",
        "    def __init__(self):\n",
        "        super(UnderfittingModel, self).__init__()\n",
        "        self.conv1 = nn.Conv2d(1, 4, 3, padding=1)\n",
        "        self.pool = nn.MaxPool2d(2, 2)\n",
        "        self.fc1 = nn.Linear(4 * 14 * 14, 18)\n",
        "\n",
        "    def forward(self, x):\n",
        "        x = self.pool(F.relu(self.conv1(x)))\n",
        "        x = x.view(-1, 4 * 14 * 14)\n",
        "        x = self.fc1(x)\n",
        "        return x\n"
      ]
    },
    {
      "cell_type": "markdown",
      "metadata": {
        "id": "vgJ2I4_RxtqR"
      },
      "source": [
        "#**1.6**"
      ]
    },
    {
      "cell_type": "markdown",
      "metadata": {
        "id": "Wg8G-2ZHyJKl"
      },
      "source": [
        "###Why overfitting happens\n",
        "**High Model Complexity:** Overfitting often occurs with models that have too many parameters relative to the number of observations. These models are highly flexible and can adapt too closely to the training data, capturing noise as if it were a significant pattern.\n",
        "\n",
        "**Lack of Regularization:** Regularization techniques like L1 or L2 are designed to impose simplicity by penalizing the magnitude of the coefficients of features. Without regularization, a model might give undue importance to less significant features, leading to overfitting.\n",
        "\n",
        "**Insufficient Training Data:** If the dataset is too small, the model may not be exposed to a representative sample of the broader data distribution. This lack of exposure can lead the model to learn patterns that don't generalize well to unseen data."
      ]
    },
    {
      "cell_type": "code",
      "execution_count": 8,
      "metadata": {
        "id": "KYDlOBBmxwT9"
      },
      "outputs": [],
      "source": [
        "import torch.nn as nn\n",
        "import torch.nn.functional as F\n",
        "\n",
        "class OverfittingModel(nn.Module):\n",
        "    def __init__(self):\n",
        "        super(OverfittingModel, self).__init__()\n",
        "        self.conv1 = nn.Conv2d(1, 64, 3, padding=1)\n",
        "        self.conv2 = nn.Conv2d(64, 128, 3, padding=1)\n",
        "        self.conv3 = nn.Conv2d(128, 256, 3, padding=1)\n",
        "        self.conv4 = nn.Conv2d(256, 512, 3, padding=1)\n",
        "        self.pool = nn.MaxPool2d(2, 2)\n",
        "        self.fc1 = nn.Linear(512 * 1 * 1, 1024)\n",
        "        self.fc2 = nn.Linear(1024, 512)\n",
        "        self.fc3 = nn.Linear(512, 18)\n",
        "\n",
        "    def forward(self, x):\n",
        "        x = self.pool(F.relu(self.conv1(x)))\n",
        "        x = self.pool(F.relu(self.conv2(x)))\n",
        "        x = self.pool(F.relu(self.conv3(x)))\n",
        "        x = self.pool(F.relu(self.conv4(x)))\n",
        "        x = x.view(-1, 512 * 1 * 1)\n",
        "        x = F.relu(self.fc1(x))\n",
        "        x = F.relu(self.fc2(x))\n",
        "        x = self.fc3(x)\n",
        "        return x\n"
      ]
    },
    {
      "cell_type": "markdown",
      "metadata": {
        "id": "I_tG2fF3yaDL"
      },
      "source": [
        "#**1.7**"
      ]
    },
    {
      "cell_type": "markdown",
      "metadata": {
        "id": "Qd510f98ywk2"
      },
      "source": [
        "We will use cross_entropy loss function to determine the loss for multy class classification. because the output of this loss function is a probability of each calss so it is better for us to use this."
      ]
    },
    {
      "cell_type": "code",
      "execution_count": 9,
      "metadata": {
        "id": "ibD-xnszz3i9"
      },
      "outputs": [],
      "source": [
        "import torch.optim as optim\n",
        "\n",
        "model = OverfittingModel()\n",
        "optimizer = optim.Adam(model.parameters())\n",
        "loss_fn = F.cross_entropy"
      ]
    },
    {
      "cell_type": "markdown",
      "metadata": {
        "id": "4O-BioOlzqGr"
      },
      "source": [
        "#**1.8**"
      ]
    },
    {
      "cell_type": "code",
      "execution_count": 10,
      "metadata": {
        "id": "yjYjopp7zHTA"
      },
      "outputs": [],
      "source": [
        "def train_one_epoch(model, data_loader, optimizer, loss_fn, device):\n",
        "    model.train()\n",
        "    total_loss = 0\n",
        "    correct = 0\n",
        "    for images, labels in data_loader:\n",
        "        images, labels = images.to(device), labels.to(device)\n",
        "\n",
        "        optimizer.zero_grad()\n",
        "        outputs = model(images)\n",
        "        loss = loss_fn(outputs, labels)\n",
        "        loss.backward()\n",
        "        optimizer.step()\n",
        "\n",
        "        total_loss += loss.item()\n",
        "        preds = outputs.argmax(dim=1)\n",
        "        correct += (preds == labels).sum().item()\n",
        "\n",
        "    avg_loss = total_loss / len(data_loader.dataset)\n",
        "    accuracy = correct / len(data_loader.dataset)\n",
        "    return avg_loss, accuracy\n"
      ]
    },
    {
      "cell_type": "markdown",
      "metadata": {
        "id": "7p-pW0TlztjV"
      },
      "source": [
        "#**1.9**"
      ]
    },
    {
      "cell_type": "code",
      "execution_count": 11,
      "metadata": {
        "id": "iZuOcgL9zzoN"
      },
      "outputs": [],
      "source": [
        "def train(model, train_loader, val_loader, optimizer, loss_fn, epochs, device):\n",
        "    for epoch in range(epochs):\n",
        "        train_loss, train_acc = train_one_epoch(model, train_loader, optimizer, loss_fn, device)\n",
        "        val_loss, val_acc = evaluate(model, val_loader, loss_fn, device)\n",
        "\n",
        "        print(f'Epoch {epoch+1}/{epochs}')\n",
        "        print(f'Train loss: {train_loss:.4f}, Train accuracy: {train_acc:.4f}')\n",
        "        print(f'Validation loss: {val_loss:.4f}, Validation accuracy: {val_acc:.4f}')\n",
        "\n",
        "def evaluate(model, data_loader, loss_fn, device):\n",
        "    model.eval()\n",
        "    total_loss = 0\n",
        "    correct = 0\n",
        "    with torch.no_grad():\n",
        "        for images, labels in data_loader:\n",
        "            images, labels = images.to(device), labels.to(device)\n",
        "            outputs = model(images)\n",
        "            loss = loss_fn(outputs, labels)\n",
        "\n",
        "            total_loss += loss.item()\n",
        "            preds = outputs.argmax(dim=1)\n",
        "            correct += (preds == labels).sum().item()\n",
        "\n",
        "    avg_loss = total_loss / len(data_loader.dataset)\n",
        "    accuracy = correct / len(data_loader.dataset)\n",
        "    return avg_loss, accuracy\n"
      ]
    },
    {
      "cell_type": "markdown",
      "metadata": {
        "id": "45ZSnRrx0EI5"
      },
      "source": [
        "#**1.10**"
      ]
    },
    {
      "cell_type": "code",
      "execution_count": 12,
      "metadata": {
        "colab": {
          "base_uri": "https://localhost:8080/"
        },
        "id": "Kg0pemYuNI9O",
        "outputId": "a57cd1fb-1f09-4c33-fd9e-b86aa542088a"
      },
      "outputs": [
        {
          "name": "stdout",
          "output_type": "stream",
          "text": [
            "Requirement already satisfied: wandb in /usr/local/lib/python3.10/dist-packages (0.17.0)\n",
            "Requirement already satisfied: click!=8.0.0,>=7.1 in /usr/local/lib/python3.10/dist-packages (from wandb) (8.1.7)\n",
            "Requirement already satisfied: docker-pycreds>=0.4.0 in /usr/local/lib/python3.10/dist-packages (from wandb) (0.4.0)\n",
            "Requirement already satisfied: gitpython!=3.1.29,>=1.0.0 in /usr/local/lib/python3.10/dist-packages (from wandb) (3.1.43)\n",
            "Requirement already satisfied: platformdirs in /usr/local/lib/python3.10/dist-packages (from wandb) (4.2.2)\n",
            "Requirement already satisfied: protobuf!=4.21.0,<5,>=3.19.0 in /usr/local/lib/python3.10/dist-packages (from wandb) (3.20.3)\n",
            "Requirement already satisfied: psutil>=5.0.0 in /usr/local/lib/python3.10/dist-packages (from wandb) (5.9.5)\n",
            "Requirement already satisfied: pyyaml in /usr/local/lib/python3.10/dist-packages (from wandb) (6.0.1)\n",
            "Requirement already satisfied: requests<3,>=2.0.0 in /usr/local/lib/python3.10/dist-packages (from wandb) (2.31.0)\n",
            "Requirement already satisfied: sentry-sdk>=1.0.0 in /usr/local/lib/python3.10/dist-packages (from wandb) (2.3.1)\n",
            "Requirement already satisfied: setproctitle in /usr/local/lib/python3.10/dist-packages (from wandb) (1.3.3)\n",
            "Requirement already satisfied: setuptools in /usr/local/lib/python3.10/dist-packages (from wandb) (67.7.2)\n",
            "Requirement already satisfied: six>=1.4.0 in /usr/local/lib/python3.10/dist-packages (from docker-pycreds>=0.4.0->wandb) (1.16.0)\n",
            "Requirement already satisfied: gitdb<5,>=4.0.1 in /usr/local/lib/python3.10/dist-packages (from gitpython!=3.1.29,>=1.0.0->wandb) (4.0.11)\n",
            "Requirement already satisfied: charset-normalizer<4,>=2 in /usr/local/lib/python3.10/dist-packages (from requests<3,>=2.0.0->wandb) (3.3.2)\n",
            "Requirement already satisfied: idna<4,>=2.5 in /usr/local/lib/python3.10/dist-packages (from requests<3,>=2.0.0->wandb) (3.7)\n",
            "Requirement already satisfied: urllib3<3,>=1.21.1 in /usr/local/lib/python3.10/dist-packages (from requests<3,>=2.0.0->wandb) (2.0.7)\n",
            "Requirement already satisfied: certifi>=2017.4.17 in /usr/local/lib/python3.10/dist-packages (from requests<3,>=2.0.0->wandb) (2024.2.2)\n",
            "Requirement already satisfied: smmap<6,>=3.0.1 in /usr/local/lib/python3.10/dist-packages (from gitdb<5,>=4.0.1->gitpython!=3.1.29,>=1.0.0->wandb) (5.0.1)\n"
          ]
        }
      ],
      "source": [
        "!pip install wandb"
      ]
    },
    {
      "cell_type": "code",
      "execution_count": 13,
      "metadata": {
        "colab": {
          "base_uri": "https://localhost:8080/"
        },
        "id": "3Z6yDSd8NB5W",
        "outputId": "693b3fad-dfb0-4983-9e51-53a2a00135fc"
      },
      "outputs": [
        {
          "name": "stderr",
          "output_type": "stream",
          "text": [
            "\u001b[34m\u001b[1mwandb\u001b[0m: Currently logged in as: \u001b[33marashazhand\u001b[0m (\u001b[33marash_azhand\u001b[0m). Use \u001b[1m`wandb login --relogin`\u001b[0m to force relogin\n"
          ]
        },
        {
          "data": {
            "text/plain": [
              "True"
            ]
          },
          "execution_count": 13,
          "metadata": {},
          "output_type": "execute_result"
        }
      ],
      "source": [
        "import wandb\n",
        "wandb.login()"
      ]
    },
    {
      "cell_type": "code",
      "execution_count": 14,
      "metadata": {
        "colab": {
          "base_uri": "https://localhost:8080/",
          "height": 754,
          "referenced_widgets": [
            "71c98ba04e3044e9bff55bb8feb2ba93",
            "436f5ea0504340dfb3a510da5c7cc9ca",
            "b3742db4c76e4ddbbaf73a627fbbfd61",
            "48251d6ec9d74445816245c3afc5ae0e",
            "6eefd9accbea4183a400bfa8ed3ed591",
            "caf88a92d3a740c49131faa2a6df594a",
            "d2ab3ea51cd84141b4875aed487e4d39",
            "49888b535c104ac4be41d17a9e659e6d"
          ]
        },
        "id": "a2kh9QNcNm8a",
        "outputId": "3e16d01e-c2e0-4276-ee65-024e110209d5"
      },
      "outputs": [
        {
          "data": {
            "text/html": [
              "Tracking run with wandb version 0.17.0"
            ],
            "text/plain": [
              "<IPython.core.display.HTML object>"
            ]
          },
          "metadata": {},
          "output_type": "display_data"
        },
        {
          "data": {
            "text/html": [
              "Run data is saved locally in <code>/content/wandb/run-20240526_064234-b38vzt01</code>"
            ],
            "text/plain": [
              "<IPython.core.display.HTML object>"
            ]
          },
          "metadata": {},
          "output_type": "display_data"
        },
        {
          "data": {
            "text/html": [
              "Syncing run <strong><a href='https://wandb.ai/arash_azhand/symbolClassification/runs/b38vzt01' target=\"_blank\">lilac-mountain-37</a></strong> to <a href='https://wandb.ai/arash_azhand/symbolClassification' target=\"_blank\">Weights & Biases</a> (<a href='https://wandb.me/run' target=\"_blank\">docs</a>)<br/>"
            ],
            "text/plain": [
              "<IPython.core.display.HTML object>"
            ]
          },
          "metadata": {},
          "output_type": "display_data"
        },
        {
          "data": {
            "text/html": [
              " View project at <a href='https://wandb.ai/arash_azhand/symbolClassification' target=\"_blank\">https://wandb.ai/arash_azhand/symbolClassification</a>"
            ],
            "text/plain": [
              "<IPython.core.display.HTML object>"
            ]
          },
          "metadata": {},
          "output_type": "display_data"
        },
        {
          "data": {
            "text/html": [
              " View run at <a href='https://wandb.ai/arash_azhand/symbolClassification/runs/b38vzt01' target=\"_blank\">https://wandb.ai/arash_azhand/symbolClassification/runs/b38vzt01</a>"
            ],
            "text/plain": [
              "<IPython.core.display.HTML object>"
            ]
          },
          "metadata": {},
          "output_type": "display_data"
        },
        {
          "name": "stdout",
          "output_type": "stream",
          "text": [
            "LR 0.001, Epoch 1/5, Train Loss: 0.0289, Train Acc: 0.6952, Val Loss: 0.0050, Val Acc: 0.9543\n",
            "LR 0.001, Epoch 2/5, Train Loss: 0.0045, Train Acc: 0.9571, Val Loss: 0.0051, Val Acc: 0.9521\n",
            "LR 0.001, Epoch 3/5, Train Loss: 0.0028, Train Acc: 0.9714, Val Loss: 0.0032, Val Acc: 0.9696\n",
            "LR 0.001, Epoch 4/5, Train Loss: 0.0023, Train Acc: 0.9770, Val Loss: 0.0028, Val Acc: 0.9726\n",
            "LR 0.001, Epoch 5/5, Train Loss: 0.0019, Train Acc: 0.9808, Val Loss: 0.0024, Val Acc: 0.9753\n",
            "LR 0.01, Epoch 1/5, Train Loss: 0.0963, Train Acc: 0.0536, Val Loss: 0.0907, Val Acc: 0.0556\n",
            "LR 0.01, Epoch 2/5, Train Loss: 0.0905, Train Acc: 0.0534, Val Loss: 0.0907, Val Acc: 0.0556\n",
            "LR 0.01, Epoch 3/5, Train Loss: 0.0905, Train Acc: 0.0504, Val Loss: 0.0907, Val Acc: 0.0556\n",
            "LR 0.01, Epoch 4/5, Train Loss: 0.0904, Train Acc: 0.0542, Val Loss: 0.0907, Val Acc: 0.0556\n",
            "LR 0.01, Epoch 5/5, Train Loss: 0.0904, Train Acc: 0.0551, Val Loss: 0.0907, Val Acc: 0.0556\n",
            "LR 0.1, Epoch 1/5, Train Loss: 4794.9647, Train Acc: 0.0550, Val Loss: 0.0910, Val Acc: 0.0556\n",
            "LR 0.1, Epoch 2/5, Train Loss: 0.0908, Train Acc: 0.0579, Val Loss: 0.0910, Val Acc: 0.0556\n",
            "LR 0.1, Epoch 3/5, Train Loss: 0.0909, Train Acc: 0.0548, Val Loss: 0.0913, Val Acc: 0.0556\n",
            "LR 0.1, Epoch 4/5, Train Loss: 0.0910, Train Acc: 0.0537, Val Loss: 0.0912, Val Acc: 0.0556\n",
            "LR 0.1, Epoch 5/5, Train Loss: 0.0910, Train Acc: 0.0516, Val Loss: 0.0909, Val Acc: 0.0556\n"
          ]
        },
        {
          "data": {
            "application/vnd.jupyter.widget-view+json": {
              "model_id": "71c98ba04e3044e9bff55bb8feb2ba93",
              "version_major": 2,
              "version_minor": 0
            },
            "text/plain": [
              "VBox(children=(Label(value='0.001 MB of 0.001 MB uploaded\\r'), FloatProgress(value=1.0, max=1.0)))"
            ]
          },
          "metadata": {},
          "output_type": "display_data"
        },
        {
          "data": {
            "text/html": [
              "<style>\n",
              "    table.wandb td:nth-child(1) { padding: 0 10px; text-align: left ; width: auto;} td:nth-child(2) {text-align: left ; width: 100%}\n",
              "    .wandb-row { display: flex; flex-direction: row; flex-wrap: wrap; justify-content: flex-start; width: 100% }\n",
              "    .wandb-col { display: flex; flex-direction: column; flex-basis: 100%; flex: 1; padding: 10px; }\n",
              "    </style>\n",
              "<div class=\"wandb-row\"><div class=\"wandb-col\"><h3>Run history:</h3><br/><table class=\"wandb\"><tr><td>Epoch</td><td>▁▃▅▆█▁▃▅▆█▁▃▅▆█</td></tr><tr><td>Learning Rate</td><td>▁▁▁▁▁▂▂▂▂▂█████</td></tr><tr><td>Train Accuracy</td><td>▆████▁▁▁▁▁▁▁▁▁▁</td></tr><tr><td>Train Loss</td><td>▁▁▁▁▁▁▁▁▁▁█▁▁▁▁</td></tr><tr><td>Validation Accuracy</td><td>█████▁▁▁▁▁▁▁▁▁▁</td></tr><tr><td>Validation Loss</td><td>▁▁▁▁▁██████████</td></tr></table><br/></div><div class=\"wandb-col\"><h3>Run summary:</h3><br/><table class=\"wandb\"><tr><td>Epoch</td><td>5</td></tr><tr><td>Learning Rate</td><td>0.1</td></tr><tr><td>Train Accuracy</td><td>0.05159</td></tr><tr><td>Train Loss</td><td>0.09095</td></tr><tr><td>Validation Accuracy</td><td>0.05556</td></tr><tr><td>Validation Loss</td><td>0.09087</td></tr></table><br/></div></div>"
            ],
            "text/plain": [
              "<IPython.core.display.HTML object>"
            ]
          },
          "metadata": {},
          "output_type": "display_data"
        },
        {
          "data": {
            "text/html": [
              " View run <strong style=\"color:#cdcd00\">lilac-mountain-37</strong> at: <a href='https://wandb.ai/arash_azhand/symbolClassification/runs/b38vzt01' target=\"_blank\">https://wandb.ai/arash_azhand/symbolClassification/runs/b38vzt01</a><br/> View project at: <a href='https://wandb.ai/arash_azhand/symbolClassification' target=\"_blank\">https://wandb.ai/arash_azhand/symbolClassification</a><br/>Synced 5 W&B file(s), 0 media file(s), 0 artifact file(s) and 0 other file(s)"
            ],
            "text/plain": [
              "<IPython.core.display.HTML object>"
            ]
          },
          "metadata": {},
          "output_type": "display_data"
        },
        {
          "data": {
            "text/html": [
              "Find logs at: <code>./wandb/run-20240526_064234-b38vzt01/logs</code>"
            ],
            "text/plain": [
              "<IPython.core.display.HTML object>"
            ]
          },
          "metadata": {},
          "output_type": "display_data"
        },
        {
          "name": "stdout",
          "output_type": "stream",
          "text": [
            "The best learning rate is: 0.001\n"
          ]
        }
      ],
      "source": [
        "import wandb\n",
        "\n",
        "wandb.init(project=\"SymbolClassification\")\n",
        "\n",
        "learning_rates = [0.001, 0.01, 0.1]\n",
        "epochs = 5\n",
        "best_val_acc = 0\n",
        "best_lr = None\n",
        "\n",
        "device = torch.device(\"cuda\" if torch.cuda.is_available() else \"cpu\")\n",
        "\n",
        "for lr in learning_rates:\n",
        "    model = OverfittingModel().to(device)\n",
        "    optimizer = optim.Adam(model.parameters(), lr=lr)\n",
        "    loss_fn = F.cross_entropy\n",
        "\n",
        "    for epoch in range(epochs):\n",
        "        train_loss, train_acc = train_one_epoch(model, train_loader, optimizer, loss_fn, device)\n",
        "        val_loss, val_acc = evaluate(model, val_loader, loss_fn, device)\n",
        "\n",
        "        wandb.log({\n",
        "            \"Learning Rate\": lr,\n",
        "            \"Train Loss\": train_loss,\n",
        "            \"Train Accuracy\": train_acc,\n",
        "            \"Validation Loss\": val_loss,\n",
        "            \"Validation Accuracy\": val_acc,\n",
        "            \"Epoch\": epoch+1\n",
        "        })\n",
        "\n",
        "        if val_acc > best_val_acc:\n",
        "            best_val_acc = val_acc\n",
        "            best_lr = lr\n",
        "\n",
        "        print(f'LR {lr}, Epoch {epoch+1}/{epochs}, Train Loss: {train_loss:.4f}, Train Acc: {train_acc:.4f}, Val Loss: {val_loss:.4f}, Val Acc: {val_acc:.4f}')\n",
        "\n",
        "wandb.finish()\n",
        "\n",
        "print(f\"The best learning rate is: {best_lr}\")\n",
        "\n"
      ]
    },
    {
      "cell_type": "markdown",
      "metadata": {
        "id": "Y3y1btZ70e6G"
      },
      "source": [
        "#**1.11**"
      ]
    },
    {
      "cell_type": "code",
      "execution_count": 15,
      "metadata": {
        "colab": {
          "base_uri": "https://localhost:8080/"
        },
        "id": "SSQfYVny0hLl",
        "outputId": "bac3e191-56c3-4139-a12f-17fcaefa7edf"
      },
      "outputs": [
        {
          "name": "stdout",
          "output_type": "stream",
          "text": [
            "Epoch 1/10\n",
            "Train loss: 0.0242, Train accuracy: 0.7437\n",
            "Validation loss: 0.0043, Validation accuracy: 0.9558\n",
            "Epoch 2/10\n",
            "Train loss: 0.0037, Train accuracy: 0.9648\n",
            "Validation loss: 0.0028, Validation accuracy: 0.9704\n",
            "Epoch 3/10\n",
            "Train loss: 0.0026, Train accuracy: 0.9753\n",
            "Validation loss: 0.0029, Validation accuracy: 0.9746\n",
            "Epoch 4/10\n",
            "Train loss: 0.0019, Train accuracy: 0.9828\n",
            "Validation loss: 0.0027, Validation accuracy: 0.9743\n",
            "Epoch 5/10\n",
            "Train loss: 0.0016, Train accuracy: 0.9846\n",
            "Validation loss: 0.0034, Validation accuracy: 0.9756\n",
            "Epoch 6/10\n",
            "Train loss: 0.0014, Train accuracy: 0.9864\n",
            "Validation loss: 0.0028, Validation accuracy: 0.9738\n",
            "Epoch 7/10\n",
            "Train loss: 0.0014, Train accuracy: 0.9872\n",
            "Validation loss: 0.0030, Validation accuracy: 0.9746\n",
            "Epoch 8/10\n",
            "Train loss: 0.0014, Train accuracy: 0.9880\n",
            "Validation loss: 0.0029, Validation accuracy: 0.9748\n",
            "Epoch 9/10\n",
            "Train loss: 0.0009, Train accuracy: 0.9919\n",
            "Validation loss: 0.0023, Validation accuracy: 0.9788\n",
            "Epoch 10/10\n",
            "Train loss: 0.0008, Train accuracy: 0.9921\n",
            "Validation loss: 0.0022, Validation accuracy: 0.9815\n",
            "\n",
            "Test loss: 0.0026, Test accuracy: 0.9820\n"
          ]
        }
      ],
      "source": [
        "best_learning_rate = best_lr\n",
        "epochs = 10\n",
        "\n",
        "device = torch.device(\"cuda\" if torch.cuda.is_available() else \"cpu\")\n",
        "\n",
        "model = OverfittingModel().to(device)\n",
        "\n",
        "optimizer = optim.Adam(model.parameters(), lr=best_learning_rate)\n",
        "loss_fn = F.cross_entropy\n",
        "\n",
        "train(model, train_loader, val_loader, optimizer, loss_fn, epochs, device)\n",
        "\n",
        "test_loss, test_accuracy = evaluate(model, test_loader, loss_fn, device)\n",
        "\n",
        "print(f'\\nTest loss: {test_loss:.4f}, Test accuracy: {test_accuracy:.4f}')\n"
      ]
    },
    {
      "cell_type": "code",
      "execution_count": 15,
      "metadata": {
        "id": "NOn675zWKKjD"
      },
      "outputs": [],
      "source": []
    }
  ],
  "metadata": {
    "accelerator": "GPU",
    "colab": {
      "gpuType": "T4",
      "provenance": []
    },
    "kernelspec": {
      "display_name": "Python 3",
      "name": "python3"
    },
    "language_info": {
      "name": "python"
    },
    "widgets": {
      "application/vnd.jupyter.widget-state+json": {
        "436f5ea0504340dfb3a510da5c7cc9ca": {
          "model_module": "@jupyter-widgets/controls",
          "model_module_version": "1.5.0",
          "model_name": "LabelModel",
          "state": {
            "_dom_classes": [],
            "_model_module": "@jupyter-widgets/controls",
            "_model_module_version": "1.5.0",
            "_model_name": "LabelModel",
            "_view_count": null,
            "_view_module": "@jupyter-widgets/controls",
            "_view_module_version": "1.5.0",
            "_view_name": "LabelView",
            "description": "",
            "description_tooltip": null,
            "layout": "IPY_MODEL_6eefd9accbea4183a400bfa8ed3ed591",
            "placeholder": "​",
            "style": "IPY_MODEL_caf88a92d3a740c49131faa2a6df594a",
            "value": "0.012 MB of 0.012 MB uploaded\r"
          }
        },
        "48251d6ec9d74445816245c3afc5ae0e": {
          "model_module": "@jupyter-widgets/base",
          "model_module_version": "1.2.0",
          "model_name": "LayoutModel",
          "state": {
            "_model_module": "@jupyter-widgets/base",
            "_model_module_version": "1.2.0",
            "_model_name": "LayoutModel",
            "_view_count": null,
            "_view_module": "@jupyter-widgets/base",
            "_view_module_version": "1.2.0",
            "_view_name": "LayoutView",
            "align_content": null,
            "align_items": null,
            "align_self": null,
            "border": null,
            "bottom": null,
            "display": null,
            "flex": null,
            "flex_flow": null,
            "grid_area": null,
            "grid_auto_columns": null,
            "grid_auto_flow": null,
            "grid_auto_rows": null,
            "grid_column": null,
            "grid_gap": null,
            "grid_row": null,
            "grid_template_areas": null,
            "grid_template_columns": null,
            "grid_template_rows": null,
            "height": null,
            "justify_content": null,
            "justify_items": null,
            "left": null,
            "margin": null,
            "max_height": null,
            "max_width": null,
            "min_height": null,
            "min_width": null,
            "object_fit": null,
            "object_position": null,
            "order": null,
            "overflow": null,
            "overflow_x": null,
            "overflow_y": null,
            "padding": null,
            "right": null,
            "top": null,
            "visibility": null,
            "width": null
          }
        },
        "49888b535c104ac4be41d17a9e659e6d": {
          "model_module": "@jupyter-widgets/controls",
          "model_module_version": "1.5.0",
          "model_name": "ProgressStyleModel",
          "state": {
            "_model_module": "@jupyter-widgets/controls",
            "_model_module_version": "1.5.0",
            "_model_name": "ProgressStyleModel",
            "_view_count": null,
            "_view_module": "@jupyter-widgets/base",
            "_view_module_version": "1.2.0",
            "_view_name": "StyleView",
            "bar_color": null,
            "description_width": ""
          }
        },
        "6eefd9accbea4183a400bfa8ed3ed591": {
          "model_module": "@jupyter-widgets/base",
          "model_module_version": "1.2.0",
          "model_name": "LayoutModel",
          "state": {
            "_model_module": "@jupyter-widgets/base",
            "_model_module_version": "1.2.0",
            "_model_name": "LayoutModel",
            "_view_count": null,
            "_view_module": "@jupyter-widgets/base",
            "_view_module_version": "1.2.0",
            "_view_name": "LayoutView",
            "align_content": null,
            "align_items": null,
            "align_self": null,
            "border": null,
            "bottom": null,
            "display": null,
            "flex": null,
            "flex_flow": null,
            "grid_area": null,
            "grid_auto_columns": null,
            "grid_auto_flow": null,
            "grid_auto_rows": null,
            "grid_column": null,
            "grid_gap": null,
            "grid_row": null,
            "grid_template_areas": null,
            "grid_template_columns": null,
            "grid_template_rows": null,
            "height": null,
            "justify_content": null,
            "justify_items": null,
            "left": null,
            "margin": null,
            "max_height": null,
            "max_width": null,
            "min_height": null,
            "min_width": null,
            "object_fit": null,
            "object_position": null,
            "order": null,
            "overflow": null,
            "overflow_x": null,
            "overflow_y": null,
            "padding": null,
            "right": null,
            "top": null,
            "visibility": null,
            "width": null
          }
        },
        "71c98ba04e3044e9bff55bb8feb2ba93": {
          "model_module": "@jupyter-widgets/controls",
          "model_module_version": "1.5.0",
          "model_name": "VBoxModel",
          "state": {
            "_dom_classes": [],
            "_model_module": "@jupyter-widgets/controls",
            "_model_module_version": "1.5.0",
            "_model_name": "VBoxModel",
            "_view_count": null,
            "_view_module": "@jupyter-widgets/controls",
            "_view_module_version": "1.5.0",
            "_view_name": "VBoxView",
            "box_style": "",
            "children": [
              "IPY_MODEL_436f5ea0504340dfb3a510da5c7cc9ca",
              "IPY_MODEL_b3742db4c76e4ddbbaf73a627fbbfd61"
            ],
            "layout": "IPY_MODEL_48251d6ec9d74445816245c3afc5ae0e"
          }
        },
        "b3742db4c76e4ddbbaf73a627fbbfd61": {
          "model_module": "@jupyter-widgets/controls",
          "model_module_version": "1.5.0",
          "model_name": "FloatProgressModel",
          "state": {
            "_dom_classes": [],
            "_model_module": "@jupyter-widgets/controls",
            "_model_module_version": "1.5.0",
            "_model_name": "FloatProgressModel",
            "_view_count": null,
            "_view_module": "@jupyter-widgets/controls",
            "_view_module_version": "1.5.0",
            "_view_name": "ProgressView",
            "bar_style": "",
            "description": "",
            "description_tooltip": null,
            "layout": "IPY_MODEL_d2ab3ea51cd84141b4875aed487e4d39",
            "max": 1,
            "min": 0,
            "orientation": "horizontal",
            "style": "IPY_MODEL_49888b535c104ac4be41d17a9e659e6d",
            "value": 1
          }
        },
        "caf88a92d3a740c49131faa2a6df594a": {
          "model_module": "@jupyter-widgets/controls",
          "model_module_version": "1.5.0",
          "model_name": "DescriptionStyleModel",
          "state": {
            "_model_module": "@jupyter-widgets/controls",
            "_model_module_version": "1.5.0",
            "_model_name": "DescriptionStyleModel",
            "_view_count": null,
            "_view_module": "@jupyter-widgets/base",
            "_view_module_version": "1.2.0",
            "_view_name": "StyleView",
            "description_width": ""
          }
        },
        "d2ab3ea51cd84141b4875aed487e4d39": {
          "model_module": "@jupyter-widgets/base",
          "model_module_version": "1.2.0",
          "model_name": "LayoutModel",
          "state": {
            "_model_module": "@jupyter-widgets/base",
            "_model_module_version": "1.2.0",
            "_model_name": "LayoutModel",
            "_view_count": null,
            "_view_module": "@jupyter-widgets/base",
            "_view_module_version": "1.2.0",
            "_view_name": "LayoutView",
            "align_content": null,
            "align_items": null,
            "align_self": null,
            "border": null,
            "bottom": null,
            "display": null,
            "flex": null,
            "flex_flow": null,
            "grid_area": null,
            "grid_auto_columns": null,
            "grid_auto_flow": null,
            "grid_auto_rows": null,
            "grid_column": null,
            "grid_gap": null,
            "grid_row": null,
            "grid_template_areas": null,
            "grid_template_columns": null,
            "grid_template_rows": null,
            "height": null,
            "justify_content": null,
            "justify_items": null,
            "left": null,
            "margin": null,
            "max_height": null,
            "max_width": null,
            "min_height": null,
            "min_width": null,
            "object_fit": null,
            "object_position": null,
            "order": null,
            "overflow": null,
            "overflow_x": null,
            "overflow_y": null,
            "padding": null,
            "right": null,
            "top": null,
            "visibility": null,
            "width": null
          }
        }
      }
    }
  },
  "nbformat": 4,
  "nbformat_minor": 0
}
